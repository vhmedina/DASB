{
 "cells": [
  {
   "cell_type": "markdown",
   "id": "a75ead38",
   "metadata": {},
   "source": [
    "# Creating variables"
   ]
  },
  {
   "cell_type": "markdown",
   "id": "cd329bbe",
   "metadata": {},
   "source": [
    "In this notebook we will look into the concept of variables.\n",
    "\n",
    "Python, like R, is a dynamically-typed language, meaning you can change the class/type of a variable on the go. This is convenient in many places, but dangerous in many other ways. It is impossible to rely on the type of the variable, and you should always retrace your steps throughout the code to see what the variable is currently representing. This is sometimes hard, especially in places like this notebook where we can execute different bits of code in any order."
   ]
  },
  {
   "cell_type": "markdown",
   "id": "e9a5aa85",
   "metadata": {},
   "source": [
    "## Intro and strings"
   ]
  },
  {
   "cell_type": "markdown",
   "id": "914375d4",
   "metadata": {},
   "source": [
    "Let's create a variable:"
   ]
  },
  {
   "cell_type": "code",
   "execution_count": 1,
   "id": "80f9991f",
   "metadata": {},
   "outputs": [
    {
     "data": {
      "text/plain": [
       "'Edinburgh'"
      ]
     },
     "execution_count": 1,
     "metadata": {},
     "output_type": "execute_result"
    }
   ],
   "source": [
    "name = \"Edinburgh\"\n",
    "name"
   ]
  },
  {
   "cell_type": "markdown",
   "id": "309136c7",
   "metadata": {},
   "source": [
    "This generates a string variable. They can be easily printed, although it is safer to use the print function:"
   ]
  },
  {
   "cell_type": "code",
   "execution_count": 2,
   "id": "dd4a4e6c",
   "metadata": {},
   "outputs": [
    {
     "name": "stdout",
     "output_type": "stream",
     "text": [
      "Edinburgh\n"
     ]
    }
   ],
   "source": [
    "print(name)"
   ]
  },
  {
   "cell_type": "markdown",
   "id": "2b2eac7e",
   "metadata": {},
   "source": [
    "It is also wise to check the type of the variable, in case you are lost:"
   ]
  },
  {
   "cell_type": "code",
   "execution_count": 3,
   "id": "58e125ed",
   "metadata": {},
   "outputs": [
    {
     "data": {
      "text/plain": [
       "str"
      ]
     },
     "execution_count": 3,
     "metadata": {},
     "output_type": "execute_result"
    }
   ],
   "source": [
    "type(name)"
   ]
  },
  {
   "cell_type": "markdown",
   "id": "809cbb29",
   "metadata": {},
   "source": [
    "This confirms that we are dealing with a string. There are a few things we can do with strings (which we can denote by using one or two apostrophes):"
   ]
  },
  {
   "cell_type": "code",
   "execution_count": 4,
   "id": "10886e91",
   "metadata": {},
   "outputs": [
    {
     "name": "stdout",
     "output_type": "stream",
     "text": [
      "university of edinburgh\n",
      "UNIVERSITY OF EDINBURGH\n",
      "University Of Edinburgh\n"
     ]
    }
   ],
   "source": [
    "name = 'university of edinburgh'\n",
    "print(name.lower())\n",
    "print(name.upper())\n",
    "print(name.title())"
   ]
  },
  {
   "cell_type": "markdown",
   "id": "e3c9ae70",
   "metadata": {},
   "source": [
    "We can concatenate strings easily using +, or using a comma in a print statement:"
   ]
  },
  {
   "cell_type": "code",
   "execution_count": 5,
   "id": "78aa0631",
   "metadata": {},
   "outputs": [
    {
     "name": "stdout",
     "output_type": "stream",
     "text": [
      "University of Edinburgh\n",
      "University of Edinburgh\n"
     ]
    }
   ],
   "source": [
    "print('University', 'of Edinburgh')\n",
    "print('University' + ' ' + 'of Edinburgh')"
   ]
  },
  {
   "cell_type": "markdown",
   "id": "23227a8a",
   "metadata": {},
   "source": [
    "Writing print('The University of Edinburgh is '+ 439) will not work, as the + operator only works for strings, we can convert any object into a string however:"
   ]
  },
  {
   "cell_type": "code",
   "execution_count": 6,
   "id": "92ec3100",
   "metadata": {},
   "outputs": [
    {
     "name": "stdout",
     "output_type": "stream",
     "text": [
      "The University of Edinburgh is 439\n"
     ]
    }
   ],
   "source": [
    "print('The University of Edinburgh is '+ str(439))"
   ]
  },
  {
   "cell_type": "markdown",
   "id": "f654277f",
   "metadata": {},
   "source": [
    "A few other useful tricks:"
   ]
  },
  {
   "cell_type": "code",
   "execution_count": 7,
   "id": "06a54590",
   "metadata": {},
   "outputs": [
    {
     "name": "stdout",
     "output_type": "stream",
     "text": [
      "|edinburgh |\n",
      "| edinburgh|\n",
      "|edinburgh|\n"
     ]
    }
   ],
   "source": [
    "name = \" edinburgh \"\n",
    "print(\"|\"+name.lstrip()+\"|\")\n",
    "print(\"|\"+name.rstrip()+\"|\")\n",
    "print(\"|\"+name.strip()+\"|\")"
   ]
  },
  {
   "cell_type": "markdown",
   "id": "3160140a",
   "metadata": {},
   "source": [
    "You can use control characters as well:"
   ]
  },
  {
   "cell_type": "code",
   "execution_count": 8,
   "id": "9405b91c",
   "metadata": {},
   "outputs": [
    {
     "name": "stdout",
     "output_type": "stream",
     "text": [
      "Edinburgh\thas a university\n",
      "running web & social network analytics course\n"
     ]
    }
   ],
   "source": [
    "print('Edinburgh\\thas a university\\nrunning web & social network analytics course')"
   ]
  },
  {
   "cell_type": "markdown",
   "id": "773d11bc",
   "metadata": {},
   "source": [
    "## Numbers"
   ]
  },
  {
   "cell_type": "code",
   "execution_count": 9,
   "id": "18f9d94f",
   "metadata": {},
   "outputs": [
    {
     "name": "stdout",
     "output_type": "stream",
     "text": [
      "a: \t\t\t10\n",
      "b: \t\t\t-10.1023\n",
      "absolute of b: \t\t10.1023\n",
      "rounded b: \t\t-10.102\n",
      "square of a: \t\t100\n",
      "cube of a: \t\t1000\n",
      "integer part of b: \t-10\n"
     ]
    }
   ],
   "source": [
    "a = 10\n",
    "b = -10.1023\n",
    "\n",
    "#Some operations illustrated (\\t stands for a tab)\n",
    "print(\"a: \\t\\t\\t\" + str(a))\n",
    "print(\"b: \\t\\t\\t\" + str(b))\n",
    "print(\"absolute of b: \\t\\t\" + str(abs(b)))\n",
    "print(\"rounded b: \\t\\t\" + str(round(b,3)))\n",
    "print(\"square of a: \\t\\t\" + str(pow(a,2)))\n",
    "print(\"cube of a: \\t\\t\" + str(a**3))\n",
    "print(\"integer part of b: \\t\" + str(int(b)))"
   ]
  },
  {
   "cell_type": "code",
   "execution_count": null,
   "id": "faf4b9c9",
   "metadata": {},
   "outputs": [],
   "source": []
  },
  {
   "cell_type": "markdown",
   "id": "0c9d2c33",
   "metadata": {},
   "source": [
    "# Flow Control"
   ]
  },
  {
   "cell_type": "markdown",
   "id": "7d2e50dd",
   "metadata": {},
   "source": [
    "Control flow statements help you to structure the code and direct it towards your convenience and introduce loops and so on."
   ]
  },
  {
   "cell_type": "markdown",
   "id": "5a13c2f5",
   "metadata": {},
   "source": [
    "## If statements"
   ]
  },
  {
   "cell_type": "code",
   "execution_count": 10,
   "id": "73e07cd7",
   "metadata": {},
   "outputs": [
    {
     "name": "stdout",
     "output_type": "stream",
     "text": [
      "Price is negative!\n"
     ]
    }
   ],
   "source": [
    "price = -5;\n",
    "\n",
    "if price <0:\n",
    "    print(\"Price is negative!\")\n",
    "elif price <1:\n",
    "    print(\"Price is too small!\")\n",
    "else:\n",
    "    print(\"Price is suitable.\")"
   ]
  },
  {
   "cell_type": "markdown",
   "id": "2a426b9b",
   "metadata": {},
   "source": [
    "Especially in text mining, comparing strings is very important:"
   ]
  },
  {
   "cell_type": "code",
   "execution_count": 11,
   "id": "7b8689fc",
   "metadata": {},
   "outputs": [
    {
     "name": "stdout",
     "output_type": "stream",
     "text": [
      "Not equal\n",
      "Equal\n"
     ]
    }
   ],
   "source": [
    "#Comparing strings\n",
    "name1 = \"edinburgh\"\n",
    "name2 = \"Edinburgh\"\n",
    "\n",
    "if name1 == name2:\n",
    "    print(\"Equal\")\n",
    "else:\n",
    "    print(\"Not equal\")\n",
    "\n",
    "if name1.lower() == name2.lower():\n",
    "    print(\"Equal\")\n",
    "else:\n",
    "    print(\"Not equal\")"
   ]
  },
  {
   "cell_type": "markdown",
   "id": "7f8fd2d8",
   "metadata": {},
   "source": [
    "Using multiple conditions:"
   ]
  },
  {
   "cell_type": "code",
   "execution_count": 12,
   "id": "2f267173",
   "metadata": {},
   "outputs": [
    {
     "name": "stdout",
     "output_type": "stream",
     "text": [
      "Number is between 1 and 10\n",
      "Number is lower than 5 or the name contains a 'j'\n"
     ]
    }
   ],
   "source": [
    "number = 9\n",
    "if number > 1 and not number > 9:\n",
    "    print(\"Number is between 1 and 10\")\n",
    "    \n",
    "number = 9\n",
    "name = 'johannes'\n",
    "if number < 5 or 'j' in name:\n",
    "    print(\"Number is lower than 5 or the name contains a 'j'\")"
   ]
  },
  {
   "cell_type": "markdown",
   "id": "90452d55",
   "metadata": {},
   "source": [
    "## While loops"
   ]
  },
  {
   "cell_type": "code",
   "execution_count": 13,
   "id": "ea110be6",
   "metadata": {},
   "outputs": [
    {
     "name": "stdout",
     "output_type": "stream",
     "text": [
      "4\n",
      "3\n",
      "2\n"
     ]
    }
   ],
   "source": [
    "number = 4\n",
    "while number > 1:\n",
    "    print(number)\n",
    "    number = number -1"
   ]
  },
  {
   "cell_type": "markdown",
   "id": "0e759270",
   "metadata": {},
   "source": [
    "## For loops"
   ]
  },
  {
   "cell_type": "markdown",
   "id": "07303413",
   "metadata": {},
   "source": [
    "For loops allow you to iteratre over elements in a certain collection, for example a list:"
   ]
  },
  {
   "cell_type": "code",
   "execution_count": 14,
   "id": "3d5f89f4",
   "metadata": {},
   "outputs": [
    {
     "name": "stdout",
     "output_type": "stream",
     "text": [
      "1\n",
      "2\n",
      "3\n",
      "4\n"
     ]
    }
   ],
   "source": [
    "# We'll look into lists in a minute\n",
    "number_list = [1, 2, 3, 4]\n",
    "for item in number_list:\n",
    "    print(item)"
   ]
  },
  {
   "cell_type": "code",
   "execution_count": 15,
   "id": "fd40f16e",
   "metadata": {},
   "outputs": [
    {
     "name": "stdout",
     "output_type": "stream",
     "text": [
      "a\n",
      "b\n",
      "c\n"
     ]
    }
   ],
   "source": [
    "list = ['a', 'b', 'c']\n",
    "for item in list:\n",
    "    print(item)"
   ]
  },
  {
   "cell_type": "markdown",
   "id": "e75aaed7",
   "metadata": {},
   "source": [
    "Ranges are also useful. Note that the upper element is not included and we can adjust the step size:"
   ]
  },
  {
   "cell_type": "code",
   "execution_count": 16,
   "id": "825de090",
   "metadata": {},
   "outputs": [
    {
     "name": "stdout",
     "output_type": "stream",
     "text": [
      "1\n",
      "2\n",
      "3\n"
     ]
    }
   ],
   "source": [
    "for i in range(1,4):\n",
    "    print(i)"
   ]
  },
  {
   "cell_type": "code",
   "execution_count": 17,
   "id": "7c8cbbb4",
   "metadata": {},
   "outputs": [
    {
     "name": "stdout",
     "output_type": "stream",
     "text": [
      "30\n",
      "40\n",
      "50\n",
      "60\n",
      "70\n",
      "80\n",
      "90\n"
     ]
    }
   ],
   "source": [
    "for i in range(30,100, 10):\n",
    "    print(i)"
   ]
  },
  {
   "cell_type": "markdown",
   "id": "c17f3387",
   "metadata": {},
   "source": [
    "## Indentation"
   ]
  },
  {
   "cell_type": "markdown",
   "id": "888c995e",
   "metadata": {},
   "source": [
    "Please be very careful with indentation"
   ]
  },
  {
   "cell_type": "code",
   "execution_count": 18,
   "id": "3366bd11",
   "metadata": {},
   "outputs": [
    {
     "name": "stdout",
     "output_type": "stream",
     "text": [
      "No indent (no tabs used)\n",
      "\tNumber 1 higher than 1.\n",
      "\tnumber 2 higher than 5\n",
      "No indent (no tabs used)\n",
      "\tNumber 1 higher than 1.\n",
      "\t\tnumber 2 higher than 5\n",
      "\tnumber 2 higher than 5\n"
     ]
    }
   ],
   "source": [
    "number_1 = 3\n",
    "number_2 = 5\n",
    "\n",
    "print('No indent (no tabs used)')\n",
    "if number_1 > 1:\n",
    "    print('\\tNumber 1 higher than 1.')\n",
    "    if number_2 > 5:\n",
    "        print('\\t\\tnumber 2 higher than 5')\n",
    "    print('\\tnumber 2 higher than 5')\n",
    "\n",
    "number_1 = 3\n",
    "number_2 = 6\n",
    "\n",
    "print('No indent (no tabs used)')\n",
    "if number_1 > 1:\n",
    "    print('\\tNumber 1 higher than 1.')\n",
    "    if number_2 > 5:\n",
    "        print('\\t\\tnumber 2 higher than 5')\n",
    "    print('\\tnumber 2 higher than 5')"
   ]
  },
  {
   "cell_type": "code",
   "execution_count": null,
   "id": "c0a83dff",
   "metadata": {},
   "outputs": [],
   "source": []
  },
  {
   "cell_type": "markdown",
   "id": "21a00f28",
   "metadata": {},
   "source": [
    "# List & Tuple"
   ]
  },
  {
   "cell_type": "markdown",
   "id": "90c3ea75",
   "metadata": {},
   "source": [
    "## Lists"
   ]
  },
  {
   "cell_type": "markdown",
   "id": "d035e5b0",
   "metadata": {},
   "source": [
    "Lists are great for collecting anything. They can contain objects of different types. For example:"
   ]
  },
  {
   "cell_type": "code",
   "execution_count": 19,
   "id": "a7412759",
   "metadata": {},
   "outputs": [],
   "source": [
    "names = [5, \"Giovanni\", \"Rose\", \"Yongzhe\", \"Luciana\", \"Imani\"]"
   ]
  },
  {
   "cell_type": "markdown",
   "id": "8018cd3e",
   "metadata": {},
   "source": [
    "Although that is not best practice. Let's start with a list of names:"
   ]
  },
  {
   "cell_type": "code",
   "execution_count": 20,
   "id": "8ba74034",
   "metadata": {},
   "outputs": [],
   "source": [
    "names = [\"Johannes\", \"Giovanni\", \"Rose\", \"Yongzhe\", \"Luciana\", \"Imani\"]"
   ]
  },
  {
   "cell_type": "code",
   "execution_count": 21,
   "id": "a8f2da74",
   "metadata": {},
   "outputs": [
    {
     "name": "stdout",
     "output_type": "stream",
     "text": [
      "Name: Johannes\n",
      "Name: Giovanni\n",
      "Name: Rose\n",
      "Name: Yongzhe\n",
      "Name: Luciana\n",
      "Name: Imani\n",
      "GIOVANNI\n",
      "IMANI\n",
      "LUCIANA\n",
      "First three: ['Johannes', 'Giovanni', 'Rose']\n",
      "First four: ['Johannes', 'Giovanni', 'Rose', 'Yongzhe']\n",
      "Up until the second to last one: ['Johannes', 'Giovanni', 'Rose', 'Yongzhe']\n",
      "Last two: ['Luciana', 'Imani']\n"
     ]
    }
   ],
   "source": [
    "# Loop names\n",
    "for name in names:\n",
    "    print('Name: '+name)\n",
    "\n",
    "# Get 'Giovanni' from list\n",
    "# Lists start counting at 0\n",
    "giovanni = names[1]\n",
    "print(giovanni.upper())\n",
    "\n",
    "# Get last item\n",
    "name = names[-1]\n",
    "print(name.upper())\n",
    "\n",
    "# Get second to last item\n",
    "name = names[-2]\n",
    "print(name.upper())\n",
    "\n",
    "print(\"First three: \"+str(names[0:3]))\n",
    "print(\"First four: \"+str(names[:4]))\n",
    "print(\"Up until the second to last one: \"+str(names[:-2]))\n",
    "print(\"Last two: \"+str(names[-2:]))"
   ]
  },
  {
   "cell_type": "markdown",
   "id": "1c5ed506",
   "metadata": {},
   "source": [
    "## Enumeration"
   ]
  },
  {
   "cell_type": "markdown",
   "id": "56f41110",
   "metadata": {},
   "source": [
    "We can enumerate collections/lists that adds an index to every element:"
   ]
  },
  {
   "cell_type": "code",
   "execution_count": 22,
   "id": "71173f58",
   "metadata": {},
   "outputs": [
    {
     "name": "stdout",
     "output_type": "stream",
     "text": [
      "0   Johannes  is in the list.\n",
      "1   Giovanni  is in the list.\n",
      "2   Rose  is in the list.\n",
      "3   Yongzhe  is in the list.\n",
      "4   Luciana  is in the list.\n",
      "5   Imani  is in the list.\n"
     ]
    }
   ],
   "source": [
    "for index, name in enumerate(names):\n",
    "    print(str(index) , \" \" , name, \" is in the list.\")"
   ]
  },
  {
   "cell_type": "markdown",
   "id": "284d3013",
   "metadata": {},
   "source": [
    "## Searching and editing"
   ]
  },
  {
   "cell_type": "code",
   "execution_count": 23,
   "id": "5b96dec4",
   "metadata": {},
   "outputs": [
    {
     "name": "stdout",
     "output_type": "stream",
     "text": [
      "0\n",
      "['Johannes', 'Giovanni', 'Roberta', 'Rose', 'Yongzhe', 'Luciana', 'Imani', 'Kumiko']\n",
      "Fruits:  ['orange']\n",
      "['Johannes', 'Giovanni', 'Roberta', 'Rose', 'Yongzhe', 'Tom', 'Imani', 'Kumiko']\n",
      "True\n",
      "Length of the list: 8\n"
     ]
    }
   ],
   "source": [
    "names = [\"Johannes\", \"Giovanni\", \"Rose\", \"Yongzhe\", \"Luciana\", \"Imani\"]\n",
    "\n",
    "# Finding an element\n",
    "print(names.index(\"Johannes\"))\n",
    "\n",
    "# Adding an element\n",
    "names.append(\"Kumiko\")\n",
    "\n",
    "# Adding an element at a specific location\n",
    "names.insert(2, \"Roberta\")\n",
    "\n",
    "print(names)\n",
    "\n",
    "#Removal\n",
    "fruits = [\"apple\",\"orange\",\"pear\"]\n",
    "del fruits[0]\n",
    "fruits.remove(\"pear\")\n",
    "print('Fruits: ', fruits)\n",
    "\n",
    "# Modifying an element\n",
    "names[5] = \"Tom\"\n",
    "print(names)\n",
    "\n",
    "# Test whether an item is in the list (best do this before removing to avoid raising errors)\n",
    "print(\"Tom\" in names)\n",
    "\n",
    "# Length of a list\n",
    "print(\"Length of the list: \" + str(len(names)))"
   ]
  },
  {
   "cell_type": "markdown",
   "id": "e75ece4f",
   "metadata": {},
   "source": [
    "Python starts at 0!!!"
   ]
  },
  {
   "cell_type": "markdown",
   "id": "cf98a16d",
   "metadata": {},
   "source": [
    "## Sorting and copying"
   ]
  },
  {
   "cell_type": "code",
   "execution_count": 24,
   "id": "c563a3e2",
   "metadata": {},
   "outputs": [
    {
     "name": "stdout",
     "output_type": "stream",
     "text": [
      "['Giovanni', 'Imani', 'Johannes', 'Kumiko', 'Roberta', 'Rose', 'Tom', 'Yongzhe']\n",
      "['Johannes', 'Giovanni', 'Roberta', 'Rose', 'Yongzhe', 'Tom', 'Imani', 'Kumiko']\n",
      "Sorted names: ['Giovanni', 'Imani', 'Johannes', 'Kumiko', 'Roberta', 'Rose', 'Tom', 'Yongzhe']\n",
      "Reverse sorted names: ['Yongzhe', 'Tom', 'Rose', 'Roberta', 'Kumiko', 'Johannes', 'Imani', 'Giovanni']\n"
     ]
    }
   ],
   "source": [
    "# Temporary sorting:\n",
    "print(sorted(names))\n",
    "print(names)\n",
    "\n",
    "# Make changes permanent\n",
    "names.sort()\n",
    "print(\"Sorted names: \" + str(names))\n",
    "names.sort(reverse=True)\n",
    "print(\"Reverse sorted names: \" + str(names))"
   ]
  },
  {
   "cell_type": "code",
   "execution_count": 25,
   "id": "b2a38e6a",
   "metadata": {},
   "outputs": [
    {
     "name": "stdout",
     "output_type": "stream",
     "text": [
      "['Yongzhe', 'Tom', 'Rose', 'Roberta', 'Kumiko', 'Imani', 'Giovanni']\n",
      "['Yongzhe', 'Tom', 'Rose', 'Roberta', 'Kumiko', 'Imani', 'Giovanni']\n",
      "After deep copy\n",
      "['Yongzhe', 'Tom', 'Rose', 'Roberta', 'Kumiko', 'Imani']\n",
      "['Yongzhe', 'Tom', 'Rose', 'Roberta', 'Kumiko', 'Imani', 'Giovanni']\n",
      "['Yongzhe', 'Tom', 'Rose', 'Roberta', 'Kumiko', 'Imani', 'Giovanni']\n"
     ]
    }
   ],
   "source": [
    "# Copying list (a shallow copy just duplicates the pointer to the memory address)\n",
    "namez = names\n",
    "namez.remove(\"Johannes\")\n",
    "print(namez)\n",
    "print(names)\n",
    "\n",
    "# Now a 'deep' copy\n",
    "print(\"After deep copy\")\n",
    "\n",
    "namez = names.copy()\n",
    "namez.remove(\"Giovanni\")\n",
    "print(namez)\n",
    "print(names)\n",
    "\n",
    "#Alternative\n",
    "namez = names[:]\n",
    "print(namez)"
   ]
  },
  {
   "cell_type": "markdown",
   "id": "ce68489c",
   "metadata": {},
   "source": [
    "## Strings as lists"
   ]
  },
  {
   "cell_type": "markdown",
   "id": "cdd502b9",
   "metadata": {},
   "source": [
    "Strings can be manipulated and used just like lists. This is especially handy in text mining:"
   ]
  },
  {
   "cell_type": "code",
   "execution_count": 26,
   "id": "78256d8b",
   "metadata": {},
   "outputs": [
    {
     "name": "stdout",
     "output_type": "stream",
     "text": [
      "Last nine letters: analytics\n",
      "Analytics in course title? True\n",
      "Start location of 'analytics': 11\n",
      "Predictive analysis\n",
      "Word  0 : Predictive\n",
      "Word  1 : analytics\n"
     ]
    }
   ],
   "source": [
    "course = \"Predictive analytics\"\n",
    "print(\"Last nine letters: \"+course[-9:])\n",
    "print(\"Analytics in course title? \" + str(\"analytics\" in course))\n",
    "print(\"Start location of 'analytics': \" + str(course.find(\"analytics\")))\n",
    "print(course.replace(\"analytics\",\"analysis\"))\n",
    "list_of_words = course.split(\" \")\n",
    "for index, word in enumerate(list_of_words):\n",
    "    print(\"Word \", index, \": \"+word)"
   ]
  },
  {
   "cell_type": "markdown",
   "id": "1b30101f",
   "metadata": {},
   "source": [
    "## Sets"
   ]
  },
  {
   "cell_type": "markdown",
   "id": "e1147844",
   "metadata": {},
   "source": [
    "Sets only contain unique elements. They have to be declared upfront using set() and allow for operations such as intersection():"
   ]
  },
  {
   "cell_type": "code",
   "execution_count": 27,
   "id": "b29437e9",
   "metadata": {},
   "outputs": [
    {
     "name": "stdout",
     "output_type": "stream",
     "text": [
      "{'Giovanni', 'Rose', 'Roberta', 'Imani', 'Tom', 'Kumiko', 'Yongzhe'}\n",
      "{'Giovanni', 'Rose', 'Galina', 'Roberta', 'Imani', 'Tom', 'Kumiko', 'Yongzhe'}\n",
      "{'Giovanni', 'Rose', 'Galina', 'Roberta', 'Imani', 'Tom', 'Kumiko', 'Yongzhe'}\n",
      "{'Giovanni', 'Galina', 'Roberta', 'Imani', 'Kumiko', 'Yongzhe'}\n",
      "{'Rose', 'Tom'}\n"
     ]
    }
   ],
   "source": [
    "name_set = set(names)\n",
    "print(name_set)\n",
    "\n",
    "# Add an element\n",
    "name_set.add(\"Galina\")\n",
    "print(name_set)\n",
    "\n",
    "# Discard an element\n",
    "name_set.discard(\"Johannes\")\n",
    "print(name_set)\n",
    "\n",
    "name_set2 = set([\"Rose\", \"Tom\"])\n",
    "# Difference and intersection\n",
    "difference = name_set - name_set2\n",
    "print(difference)\n",
    "intersection = name_set.intersection(name_set2)\n",
    "print(intersection)"
   ]
  },
  {
   "cell_type": "code",
   "execution_count": null,
   "id": "69fcf59a",
   "metadata": {},
   "outputs": [],
   "source": []
  },
  {
   "cell_type": "markdown",
   "id": "a1bf7462",
   "metadata": {},
   "source": [
    "# Dictionary & Function"
   ]
  },
  {
   "cell_type": "markdown",
   "id": "2aae1b02",
   "metadata": {},
   "source": [
    "## Dictionaries"
   ]
  },
  {
   "cell_type": "markdown",
   "id": "24ad8984",
   "metadata": {},
   "source": [
    "Dictionaries are a great way to store particular data as key-value pairs, which mimics the basic structure of a simple database."
   ]
  },
  {
   "cell_type": "code",
   "execution_count": 28,
   "id": "ec40547a",
   "metadata": {},
   "outputs": [
    {
     "name": "stdout",
     "output_type": "stream",
     "text": [
      "Johannes teaches Predictive analytics\n",
      "Kumiko teaches Prescriptive analytics\n",
      "Luciana teaches Descriptive analytics\n"
     ]
    }
   ],
   "source": [
    "courses = {\"Johannes\" : \"Predictive analytics\", \"Kumiko\" : \"Prescriptive analytics\", \"Luciana\" : \"Descriptive analytics\"}\n",
    "\n",
    "for organizer in courses:\n",
    "    print(organizer + \" teaches \" + courses[organizer])"
   ]
  },
  {
   "cell_type": "markdown",
   "id": "90350a08",
   "metadata": {},
   "source": [
    "We can also write:"
   ]
  },
  {
   "cell_type": "code",
   "execution_count": 29,
   "id": "b931f7ea",
   "metadata": {},
   "outputs": [
    {
     "name": "stdout",
     "output_type": "stream",
     "text": [
      "Johannes teaches Predictive analytics\n",
      "Kumiko teaches Prescriptive analytics\n",
      "Luciana teaches Descriptive analytics\n"
     ]
    }
   ],
   "source": [
    "for organizer, course in courses.items():\n",
    "    print(organizer + \" teaches \" + course)"
   ]
  },
  {
   "cell_type": "code",
   "execution_count": 30,
   "id": "58e9535e",
   "metadata": {},
   "outputs": [
    {
     "name": "stdout",
     "output_type": "stream",
     "text": [
      "{'Johannes': 'Predictive analytics', 'Kumiko': 'Prescriptive analytics', 'Luciana': 'Descriptive analytics', 'Imani': 'Other analytics'}\n",
      "{'Johannes': 'Business analytics', 'Kumiko': 'Prescriptive analytics', 'Luciana': 'Descriptive analytics', 'Imani': 'Other analytics'}\n"
     ]
    }
   ],
   "source": [
    "# Adding items\n",
    "courses[\"Imani\"] = \"Other analytics\"\n",
    "print(courses)\n",
    "\n",
    "# Overwrite\n",
    "courses[\"Johannes\"] = \"Business analytics\"\n",
    "print(courses)"
   ]
  },
  {
   "cell_type": "code",
   "execution_count": 31,
   "id": "ea69e95b",
   "metadata": {},
   "outputs": [
    {
     "name": "stdout",
     "output_type": "stream",
     "text": [
      "{'Kumiko': 'Prescriptive analytics', 'Luciana': 'Descriptive analytics', 'Imani': 'Other analytics'}\n"
     ]
    }
   ],
   "source": [
    "# Remove\n",
    "del courses[\"Johannes\"]\n",
    "print(courses)"
   ]
  },
  {
   "cell_type": "code",
   "execution_count": 32,
   "id": "024e438f",
   "metadata": {},
   "outputs": [
    {
     "name": "stdout",
     "output_type": "stream",
     "text": [
      "Prescriptive analytics\n",
      "Descriptive analytics\n",
      "Other analytics\n"
     ]
    }
   ],
   "source": [
    "# Looping values\n",
    "for course in courses.values():\n",
    "    print(course)"
   ]
  },
  {
   "cell_type": "code",
   "execution_count": 33,
   "id": "77b2b0cd",
   "metadata": {},
   "outputs": [
    {
     "name": "stdout",
     "output_type": "stream",
     "text": [
      "Imani teaches Other analytics\n",
      "Kumiko teaches Prescriptive analytics\n",
      "Luciana teaches Descriptive analytics\n"
     ]
    }
   ],
   "source": [
    "# Sorted output (on keys)\n",
    "for organizer, course in sorted(courses.items()):\n",
    "    print(organizer +\" teaches \" + course)"
   ]
  },
  {
   "cell_type": "markdown",
   "id": "c1ebbdc4",
   "metadata": {},
   "source": [
    "## Functions"
   ]
  },
  {
   "cell_type": "markdown",
   "id": "0461c51f",
   "metadata": {},
   "source": [
    "Functions form the backbone of all code. You have already used some, like print(). They can be easily defined by yourself as well."
   ]
  },
  {
   "cell_type": "code",
   "execution_count": 34,
   "id": "50af5962",
   "metadata": {},
   "outputs": [],
   "source": [
    "def my_function(a, b):\n",
    "    a = a.title()\n",
    "    b = b.upper()\n",
    "    print(a+ \" \"+b)"
   ]
  },
  {
   "cell_type": "code",
   "execution_count": 35,
   "id": "7ad2d661",
   "metadata": {},
   "outputs": [],
   "source": [
    "def my_function2(a, b):\n",
    "    a = a.title()\n",
    "    b = b.upper()\n",
    "    return a + \" \" + b"
   ]
  },
  {
   "cell_type": "code",
   "execution_count": 36,
   "id": "09995cdb",
   "metadata": {},
   "outputs": [
    {
     "name": "stdout",
     "output_type": "stream",
     "text": [
      "Johannes DE SMEDT\n",
      "Johannes DE SMEDT\n"
     ]
    }
   ],
   "source": [
    "my_function(\"johannes\",\"de smedt\")\n",
    "output = my_function2(\"johannes\",\"de smedt\")\n",
    "print(output)"
   ]
  },
  {
   "cell_type": "markdown",
   "id": "64da5cb5",
   "metadata": {},
   "source": [
    "Notice how the first function already prints, while the second returns a string we have to print ourselves. Python is weakly-typed, so a function can produce different results, like in this example:"
   ]
  },
  {
   "cell_type": "code",
   "execution_count": 37,
   "id": "daeeb8b7",
   "metadata": {},
   "outputs": [
    {
     "name": "stdout",
     "output_type": "stream",
     "text": [
      "1.5\n",
      "a is negative\n"
     ]
    }
   ],
   "source": [
    "# Different output type\n",
    "def calculate_mean(a, b):\n",
    "    if (a>0):\n",
    "        return (a+b)/2\n",
    "    else:\n",
    "        return \"a is negative\"\n",
    "\n",
    "output = calculate_mean(1,2)\n",
    "print(output)\n",
    "output = calculate_mean(0,1)\n",
    "print(output)"
   ]
  },
  {
   "cell_type": "markdown",
   "id": "96800891",
   "metadata": {},
   "source": [
    "## Comprehensions"
   ]
  },
  {
   "cell_type": "markdown",
   "id": "6bfc8451",
   "metadata": {},
   "source": [
    "Comprehensions allow you to quickly/efficiently write lists/dictionaries:"
   ]
  },
  {
   "cell_type": "code",
   "execution_count": 38,
   "id": "2ba16715",
   "metadata": {},
   "outputs": [
    {
     "name": "stdout",
     "output_type": "stream",
     "text": [
      "[2, 4, 6, 8, 10]\n"
     ]
    }
   ],
   "source": [
    "# Finding even numbers\n",
    "evens = [i for i in range(1,11) if i % 2 ==0]\n",
    "print(evens)"
   ]
  },
  {
   "cell_type": "markdown",
   "id": "bda7c601",
   "metadata": {},
   "source": [
    "In Python, you can easily make tuples such as pairs, like here:"
   ]
  },
  {
   "cell_type": "code",
   "execution_count": 39,
   "id": "dc3f36c9",
   "metadata": {},
   "outputs": [
    {
     "name": "stdout",
     "output_type": "stream",
     "text": [
      "[(6, 5), (7, 5), (7, 6), (8, 5), (8, 6), (8, 7), (9, 5), (9, 6), (9, 7), (9, 8), (10, 5), (10, 6), (10, 7), (10, 8), (10, 9)]\n"
     ]
    }
   ],
   "source": [
    "# Double fun\n",
    "pairs = [(x,y) for x in range(1,11) for y in range(5,11) if x>y]\n",
    "print(pairs)"
   ]
  },
  {
   "cell_type": "markdown",
   "id": "17afe2aa",
   "metadata": {},
   "source": [
    "They are also useful to perform some pre-processing, e.g., on strings:"
   ]
  },
  {
   "cell_type": "code",
   "execution_count": 40,
   "id": "6f254925",
   "metadata": {},
   "outputs": [
    {
     "name": "stdout",
     "output_type": "stream",
     "text": [
      "['Jamal', 'Maurizio', 'Johannes']\n",
      "['Jamal', 'Johannes']\n"
     ]
    }
   ],
   "source": [
    "# Operations\n",
    "names = [\"jamal\", \"maurizio\", \"johannes\"]\n",
    "\n",
    "titled_names = [name.title() for name in names]\n",
    "print(titled_names)\n",
    "\n",
    "j_s = [name.title() for name in names if name.lower()[0] == 'j']\n",
    "print(j_s)"
   ]
  },
  {
   "cell_type": "code",
   "execution_count": null,
   "id": "7bbf69ff",
   "metadata": {},
   "outputs": [],
   "source": []
  },
  {
   "cell_type": "markdown",
   "id": "d4167302",
   "metadata": {},
   "source": [
    "# IO & Library"
   ]
  },
  {
   "cell_type": "code",
   "execution_count": 42,
   "id": "665f8f58",
   "metadata": {},
   "outputs": [],
   "source": [
    "# Download some datasets\n",
    "# If you are using git, then you don't need to run the following.\n",
    "# !wget -q https://raw.githubusercontent.com/Magica-Chen/data-analysis-statistics/main/python-fundamentals/data/DM_1.csv\n",
    "# !mkdir data\n",
    "# !mv *.csv ./data"
   ]
  },
  {
   "cell_type": "markdown",
   "id": "3f8652e4",
   "metadata": {},
   "source": [
    "## Reading files"
   ]
  },
  {
   "cell_type": "markdown",
   "id": "faf8d264",
   "metadata": {},
   "source": [
    "In Python, we can easily open any file type. Naturally, it is most suitable for plainly-structured formats such as .txt., .csv., as so on. You can also open Excel files with appropriate packages, such as pandas (more on this later). Let's read in a .csv file:"
   ]
  },
  {
   "cell_type": "code",
   "execution_count": 41,
   "id": "dabd766c",
   "metadata": {},
   "outputs": [
    {
     "name": "stdout",
     "output_type": "stream",
     "text": [
      "Name,Email,City,Salary\n",
      "\n",
      "Brent Hopkins,Cum.sociis.natoque@aodiosemper.edu,Mount Pearl,38363\n",
      "\n",
      "Colt Bender,Vivamus.non.lorem@Proin.org,Castle Douglas,21506\n",
      "\n",
      "Arthur Hammond,nisl.Maecenas@sed.net,Biloxi,27511\n",
      "\n",
      "Sean Warner,enim.nisl.elementum@Vivamus.edu,Moere,25201\n",
      "\n",
      "Tate Greene,velit.justo.nec@aliquetlobortisnisi.edu,Ipswich,35052\n",
      "\n",
      "Gavin Gibson,cursus.Integer.mollis@Duissitamet.org,Oordegem,37126\n",
      "\n",
      "Kelly Garza,cursus.non.egestas@antebibendum.ca,Kukatpalle,39420\n",
      "\n",
      "Zane Preston,sed@Phasellusataugue.com,Neudšrfl,28553\n",
      "\n",
      "Cole Cunningham,ac.mattis.ornare@inmagna.co.uk,Catemu,27972\n",
      "\n",
      "Tarik Hendricks,Mauris.vestibulum@sodales.ca,Newbury,39027\n",
      "\n",
      "Elvis Collier,pede@mattisvelit.org,Paradise,22568\n",
      "\n",
      "Jackson Huber,eros.nec.tellus@ultricesposuere.edu,Veere,29922\n",
      "\n",
      "Macaulay Cline,Aliquam@arcuSedeu.edu,Campobasso,24163\n",
      "\n",
      "Elijah Chase,est.mollis.non@in.net,Grantham,23881\n",
      "\n",
      "Dennis Anthony,mauris.ut.mi@maurisid.co.uk,Cedar Rapids,27969\n",
      "\n",
      "Fulton Snyder,enim.mi@egestas.ca,San Pedro,21594\n",
      "\n",
      "Leo Willis,massa.lobortis@mattisornare.edu,Kester,31203\n",
      "\n",
      "Matthew Hooper,libero@Nuncullamcorper.net,Bellefontaine,33222\n",
      "\n",
      "Todd Jones,ipsum.Phasellus@ultrices.ca,Toledo,24809\n",
      "\n",
      "Palmer Byrd,faucibus.orci@necquam.org,Bissegem,29045\n"
     ]
    }
   ],
   "source": [
    "# Open a file for reading ('r')\n",
    "file = open('data/DM_1.csv','r')\n",
    "\n",
    "for line in file:\n",
    "    print(line)"
   ]
  },
  {
   "cell_type": "markdown",
   "id": "6e228865",
   "metadata": {},
   "source": [
    "We can store this information in objects and start using it:"
   ]
  },
  {
   "cell_type": "code",
   "execution_count": 42,
   "id": "3000cec3",
   "metadata": {},
   "outputs": [
    {
     "name": "stdout",
     "output_type": "stream",
     "text": [
      "Arthur Hammond  has  27511\n",
      "Brent Hopkins  has  38363\n",
      "Cole Cunningham  has  27972\n",
      "Dennis Anthony  has  27969\n",
      "Gavin Gibson  has  37126\n",
      "Jackson Huber  has  29922\n",
      "Kelly Garza  has  39420\n",
      "Leo Willis  has  31203\n",
      "Matthew Hooper  has  33222\n",
      "Palmer Byrd  has  29045\n",
      "Sean Warner  has  25201\n",
      "Tarik Hendricks  has  39027\n",
      "Tate Greene  has  35052\n",
      "Zane Preston  has  28553\n"
     ]
    }
   ],
   "source": [
    "# File is looped now, hence, reread file\n",
    "file = open('data/DM_1.csv','r')\n",
    "# ignore the header\n",
    "next(file)\n",
    "\n",
    "# Store names with amount (i.e. columns 1 & 2)\n",
    "amount_per_person = {}\n",
    "for line in file:\n",
    "    cells = line.split(\",\")\n",
    "    amount_per_person[cells[0]] = int(cells[3])\n",
    "\n",
    "for person, amount in sorted(amount_per_person.items()):\n",
    "    if amount > 25000:\n",
    "        print(person , \" has \" , amount)"
   ]
  },
  {
   "cell_type": "code",
   "execution_count": 43,
   "id": "1c37ff72",
   "metadata": {},
   "outputs": [],
   "source": [
    "# Now we use 'w' for write   \n",
    "output_file = open('data/ordered_amounts_per_person.csv','w')\n",
    "\n",
    "for person, amount in sorted(amount_per_person.items()):\n",
    "    output_file.write(person.lower()+\",\"+str(amount))    \n",
    "output_file.close()"
   ]
  },
  {
   "cell_type": "markdown",
   "id": "b8f72c98",
   "metadata": {},
   "source": [
    "## Libraries"
   ]
  },
  {
   "cell_type": "markdown",
   "id": "b6a97bf8",
   "metadata": {},
   "source": [
    "Libraries are imported by using `import`:"
   ]
  },
  {
   "cell_type": "code",
   "execution_count": 48,
   "id": "6cfbe193",
   "metadata": {},
   "outputs": [],
   "source": [
    "import numpy as np"
   ]
  },
  {
   "cell_type": "markdown",
   "id": "6ff4de8c",
   "metadata": {},
   "source": [
    "We can import just a few bits using `from`, or create aliases using `as`:"
   ]
  },
  {
   "cell_type": "code",
   "execution_count": 45,
   "id": "00b4a8c5",
   "metadata": {},
   "outputs": [],
   "source": [
    "import math as m\n",
    "from math import pi"
   ]
  },
  {
   "cell_type": "code",
   "execution_count": 46,
   "id": "868a33f7",
   "metadata": {},
   "outputs": [
    {
     "name": "stdout",
     "output_type": "stream",
     "text": [
      "3\n",
      "3.141592653589793\n",
      "0.8414709848078965\n"
     ]
    }
   ],
   "source": [
    "print(numpy.add(1, 2))\n",
    "print(pi)\n",
    "print(m.sin(1))"
   ]
  },
  {
   "cell_type": "markdown",
   "id": "60210e1c",
   "metadata": {},
   "source": [
    "## Numpy"
   ]
  },
  {
   "cell_type": "code",
   "execution_count": 49,
   "id": "781c3861",
   "metadata": {},
   "outputs": [
    {
     "name": "stdout",
     "output_type": "stream",
     "text": [
      "Empty array: \n",
      " [0. 0. 0. 0. 0.]\n",
      "Empty matrix: \n",
      " [[0. 0.]\n",
      " [0. 0.]\n",
      " [0. 0.]\n",
      " [0. 0.]\n",
      " [0. 0.]]\n"
     ]
    }
   ],
   "source": [
    "# Create empty arrays/matrices\n",
    "empty_array = np.zeros(5)\n",
    "\n",
    "empty_matrix = np.zeros((5,2))\n",
    "\n",
    "print('Empty array: \\n',empty_array)\n",
    "print('Empty matrix: \\n',empty_matrix)"
   ]
  },
  {
   "cell_type": "code",
   "execution_count": 50,
   "id": "c23a16fb",
   "metadata": {},
   "outputs": [
    {
     "name": "stdout",
     "output_type": "stream",
     "text": [
      "Matrix: \n",
      " [[1 2 3]\n",
      " [4 5 6]]\n",
      "Transpose: \n",
      " [[1 4]\n",
      " [2 5]\n",
      " [3 6]]\n",
      "Item 2,2:  5\n",
      "Item 2,3:  6\n",
      "rows and columns:  (2, 3)\n",
      "Sum total matrix:  21\n",
      "Sum row 1:  6\n",
      "Sum row 2:  15\n",
      "Sum column 2:  9\n"
     ]
    }
   ],
   "source": [
    "# Create matrices\n",
    "mat = np.array([[1,2,3],[4,5,6]])\n",
    "print('Matrix: \\n', mat)\n",
    "print('Transpose: \\n', mat.T)\n",
    "print('Item 2,2: ', mat[1,1])\n",
    "print('Item 2,3: ', mat[1,2])\n",
    "print('rows and columns: ', np.shape(mat))\n",
    "print('Sum total matrix: ', np.sum(mat))\n",
    "print('Sum row 1: ' , np.sum(mat[0]))\n",
    "print('Sum row 2: ', np.sum(mat[1]))\n",
    "print('Sum column 2: ', np.sum(mat,axis=0)[2])"
   ]
  },
  {
   "cell_type": "code",
   "execution_count": null,
   "id": "d53f2d58",
   "metadata": {},
   "outputs": [],
   "source": []
  }
 ],
 "metadata": {
  "kernelspec": {
   "display_name": "Python 3 (ipykernel)",
   "language": "python",
   "name": "python3"
  },
  "language_info": {
   "codemirror_mode": {
    "name": "ipython",
    "version": 3
   },
   "file_extension": ".py",
   "mimetype": "text/x-python",
   "name": "python",
   "nbconvert_exporter": "python",
   "pygments_lexer": "ipython3",
   "version": "3.9.13"
  }
 },
 "nbformat": 4,
 "nbformat_minor": 5
}
