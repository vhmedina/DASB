{
 "cells": [
  {
   "cell_type": "markdown",
   "id": "035825bb",
   "metadata": {},
   "source": [
    "# Exercise 1"
   ]
  },
  {
   "cell_type": "code",
   "execution_count": null,
   "id": "b869ef13",
   "metadata": {},
   "outputs": [],
   "source": [
    "amount = 1000\n",
    "interest_rate = 0.1\n",
    "\n",
    "final_amount = 0"
   ]
  },
  {
   "cell_type": "markdown",
   "id": "dee69974",
   "metadata": {},
   "source": [
    "Use the base amount and interest rate to calculate the final amount after compound interest over 5 years."
   ]
  },
  {
   "cell_type": "code",
   "execution_count": null,
   "id": "2b1def0f",
   "metadata": {},
   "outputs": [],
   "source": [
    "# Do your calculations here\n",
    "# ..."
   ]
  },
  {
   "cell_type": "code",
   "execution_count": null,
   "id": "43cd10c5",
   "metadata": {},
   "outputs": [],
   "source": [
    "print('The final amoutn is ', final_amount)"
   ]
  },
  {
   "cell_type": "code",
   "execution_count": null,
   "id": "6ad5bb8b",
   "metadata": {},
   "outputs": [],
   "source": []
  },
  {
   "cell_type": "markdown",
   "id": "14c64a83",
   "metadata": {},
   "source": [
    "# Exercise 2"
   ]
  },
  {
   "cell_type": "markdown",
   "id": "2331b6db",
   "metadata": {},
   "source": [
    "Calculate how many years you need to obtain a certain amount (e.g. 2000) by starting with an initial amount (e.g. 1000) for a given interest rate (e.g. 2%)"
   ]
  },
  {
   "cell_type": "code",
   "execution_count": null,
   "id": "ef99290b",
   "metadata": {},
   "outputs": [],
   "source": [
    "amount = 1000\n",
    "target = 2000\n",
    "interest_rate = 0.02\n",
    "\n",
    "number_of_years = 0"
   ]
  },
  {
   "cell_type": "code",
   "execution_count": null,
   "id": "0b599cf8",
   "metadata": {},
   "outputs": [],
   "source": [
    "# Do your calculations here\n",
    "# ..."
   ]
  },
  {
   "cell_type": "code",
   "execution_count": null,
   "id": "3b5395e4",
   "metadata": {
    "scrolled": true
   },
   "outputs": [],
   "source": [
    "print('The number of years needed is ', number_of_years)"
   ]
  },
  {
   "cell_type": "code",
   "execution_count": null,
   "id": "7c746304",
   "metadata": {},
   "outputs": [],
   "source": []
  },
  {
   "cell_type": "markdown",
   "id": "f5a26653",
   "metadata": {},
   "source": [
    "# Exercise 3"
   ]
  },
  {
   "cell_type": "markdown",
   "id": "7e49c3f2",
   "metadata": {},
   "source": [
    "Remove the duplicates from this list:"
   ]
  },
  {
   "cell_type": "code",
   "execution_count": null,
   "id": "0f933ad8",
   "metadata": {},
   "outputs": [],
   "source": [
    "name_list = [\"Johannes\", \"Jamal\", \"Jamal\", \"Johannes\", \"Galina\"]"
   ]
  },
  {
   "cell_type": "code",
   "execution_count": null,
   "id": "3ff06123",
   "metadata": {},
   "outputs": [],
   "source": [
    "# Enter your code here\n",
    "# ..."
   ]
  },
  {
   "cell_type": "markdown",
   "id": "6adf288e",
   "metadata": {},
   "source": [
    "Check the output:"
   ]
  },
  {
   "cell_type": "code",
   "execution_count": null,
   "id": "51dfe3d8",
   "metadata": {},
   "outputs": [],
   "source": [
    "print(name_list)"
   ]
  },
  {
   "cell_type": "code",
   "execution_count": null,
   "id": "c60b211a",
   "metadata": {},
   "outputs": [],
   "source": []
  },
  {
   "cell_type": "markdown",
   "id": "2c08c00a",
   "metadata": {},
   "source": [
    "# Exercise 4"
   ]
  },
  {
   "cell_type": "markdown",
   "id": "270c329a",
   "metadata": {},
   "source": [
    "Make a list of all the 4th and 6th letters of a word:"
   ]
  },
  {
   "cell_type": "code",
   "execution_count": null,
   "id": "c9965f5f",
   "metadata": {},
   "outputs": [],
   "source": [
    "words = [\"Johannes\", \"Jamal\", \"Jamal\", \"Johannes\", \"Galina\"]\n",
    "new_list = []"
   ]
  },
  {
   "cell_type": "code",
   "execution_count": null,
   "id": "7f1f1c16",
   "metadata": {},
   "outputs": [],
   "source": [
    "# Enter your code here\n",
    "# ..."
   ]
  },
  {
   "cell_type": "code",
   "execution_count": null,
   "id": "fb886201",
   "metadata": {},
   "outputs": [],
   "source": [
    "print(new_list)"
   ]
  },
  {
   "cell_type": "code",
   "execution_count": null,
   "id": "5985b5ff",
   "metadata": {},
   "outputs": [],
   "source": []
  },
  {
   "cell_type": "markdown",
   "id": "a024752b",
   "metadata": {},
   "source": [
    "# Exercise 5"
   ]
  },
  {
   "cell_type": "markdown",
   "id": "2f899a6d",
   "metadata": {},
   "source": [
    "Create a list of temperatures in Fahrenheit from another list measured in Celsius using comprehensions:"
   ]
  },
  {
   "cell_type": "code",
   "execution_count": null,
   "id": "468d0b2c",
   "metadata": {},
   "outputs": [],
   "source": [
    "celsius = [15, 18, 32, 19]\n",
    "\n",
    "# Fill in the right comprehension\n",
    "fahrenheit = []"
   ]
  },
  {
   "cell_type": "markdown",
   "id": "6ec26f73",
   "metadata": {},
   "source": [
    "Check the output:"
   ]
  },
  {
   "cell_type": "code",
   "execution_count": null,
   "id": "cc7b09a0",
   "metadata": {},
   "outputs": [],
   "source": [
    "print(fahrenheit)"
   ]
  },
  {
   "cell_type": "code",
   "execution_count": null,
   "id": "158445b5",
   "metadata": {},
   "outputs": [],
   "source": []
  },
  {
   "cell_type": "markdown",
   "id": "b92bb511",
   "metadata": {},
   "source": [
    "# Exercise 6"
   ]
  },
  {
   "cell_type": "markdown",
   "id": "59dad336",
   "metadata": {},
   "source": [
    "Calculate how many years you need to obtain a certain amount by starting with an initial amount for a given interest rate"
   ]
  },
  {
   "cell_type": "code",
   "execution_count": null,
   "id": "f73b3627",
   "metadata": {},
   "outputs": [],
   "source": [
    "amounts = [1000,1200,1300]\n",
    "target = 2000\n",
    "interest_rates = [0.02,0.05,0.1]"
   ]
  },
  {
   "cell_type": "markdown",
   "id": "d1389ed3",
   "metadata": {},
   "source": [
    "You can use your previous code from exercise 2 and reuse it in a function:"
   ]
  },
  {
   "cell_type": "code",
   "execution_count": null,
   "id": "3b0d9ba7",
   "metadata": {},
   "outputs": [],
   "source": [
    "# Define function\n",
    "# ..."
   ]
  },
  {
   "cell_type": "code",
   "execution_count": null,
   "id": "6262b082",
   "metadata": {},
   "outputs": [],
   "source": [
    "# Loop over amounts and interest rates and call function\n",
    "# Print an informative line of code\n",
    "# ..."
   ]
  },
  {
   "cell_type": "code",
   "execution_count": null,
   "id": "530384f3",
   "metadata": {},
   "outputs": [],
   "source": []
  },
  {
   "cell_type": "markdown",
   "id": "28fdbc00",
   "metadata": {},
   "source": [
    "# Exercise 7"
   ]
  },
  {
   "cell_type": "markdown",
   "id": "151f628d",
   "metadata": {},
   "source": [
    "Calculate the number of ECTS taught by every member in the dictionary"
   ]
  },
  {
   "cell_type": "code",
   "execution_count": null,
   "id": "0466f1bd",
   "metadata": {},
   "outputs": [],
   "source": [
    "courses = {\"Johannes\" : \"Web Analytics\", \"Jamal\" : \"DEA\", \"Maurizio\" : \"Simulation\"}\n",
    "ects = {\"Web Analytics\": 15, \"DEA\": 15, \"Simulation\":15}"
   ]
  },
  {
   "cell_type": "code",
   "execution_count": null,
   "id": "d35b5cb5",
   "metadata": {},
   "outputs": [],
   "source": [
    "# Enter your code here\n",
    "# ...\n"
   ]
  },
  {
   "cell_type": "code",
   "execution_count": null,
   "id": "a32b8a1a",
   "metadata": {},
   "outputs": [],
   "source": []
  },
  {
   "cell_type": "markdown",
   "id": "ee55fbf2",
   "metadata": {},
   "source": [
    "# Exercise 8"
   ]
  },
  {
   "cell_type": "markdown",
   "id": "885403e0",
   "metadata": {},
   "source": [
    "Find the most common letter at the third place in a word:"
   ]
  },
  {
   "cell_type": "code",
   "execution_count": null,
   "id": "5c27229b",
   "metadata": {},
   "outputs": [],
   "source": [
    "words = [\"Johannes\", \"Jamal\", \"Jamal\", \"Adme\", \"Galina\"]"
   ]
  },
  {
   "cell_type": "code",
   "execution_count": null,
   "id": "4e3afeae",
   "metadata": {},
   "outputs": [],
   "source": [
    "# Enter your code here\n",
    "# ..."
   ]
  },
  {
   "cell_type": "code",
   "execution_count": null,
   "id": "5f0dc280",
   "metadata": {},
   "outputs": [],
   "source": []
  }
 ],
 "metadata": {
  "kernelspec": {
   "display_name": "Python 3 (ipykernel)",
   "language": "python",
   "name": "python3"
  },
  "language_info": {
   "codemirror_mode": {
    "name": "ipython",
    "version": 3
   },
   "file_extension": ".py",
   "mimetype": "text/x-python",
   "name": "python",
   "nbconvert_exporter": "python",
   "pygments_lexer": "ipython3",
   "version": "3.9.13"
  }
 },
 "nbformat": 4,
 "nbformat_minor": 5
}
