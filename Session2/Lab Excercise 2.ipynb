{
 "cells": [
  {
   "cell_type": "markdown",
   "id": "5a774964",
   "metadata": {},
   "source": [
    "# Let's look at some questions!"
   ]
  },
  {
   "cell_type": "code",
   "execution_count": 1,
   "id": "23636995",
   "metadata": {},
   "outputs": [],
   "source": [
    "import numpy as np\n",
    "import matplotlib.pyplot as plt\n",
    "import pandas as pd"
   ]
  },
  {
   "cell_type": "code",
   "execution_count": 2,
   "id": "09fe620f",
   "metadata": {},
   "outputs": [],
   "source": [
    "df = pd.read_excel('data/Spatial.xlsx')"
   ]
  },
  {
   "cell_type": "markdown",
   "id": "88cfe377",
   "metadata": {},
   "source": [
    "## Descriptive statistics"
   ]
  },
  {
   "cell_type": "markdown",
   "id": "d86374bc",
   "metadata": {},
   "source": [
    "**Introduction**\n",
    "\n",
    "There is a commonly held belief that the younger you are the more easily you can absorb new material. In fact we are used to parents or grandparents being forgetful “having a senior moment”. In order to investigate this for a particular kind of memory, spatial, an investigation has been carried out to test the spatial memory of two groups of people, designated as Elderly (over 65) and Young (20-25). In the test, 18 objects were arranged randomly on a 10x 10 grid. Participants were allowed to examine the positions of the objects for as long as they liked and were subsequently asked to recall these positions by replacing the objects on the grid. Their study times and two measures of performance – the number positioned correctly and the error in positioning - are recorded.\n",
    "\n",
    "The worksheet contains 6 columns of data:-\n",
    "- A: Age group, defined as Elderly or Young.\n",
    "- B: Identification number for each subject within the age groups.\n",
    "- C: Number of objects correctly replaced (out of 18).\n",
    "- D: Percentage of objects correctly replaced.\n",
    "- E: City Block Score – a measurement of the errors between the target and actual positions.\n",
    "- F: Study time – the time each individual spent examining the positions of the objects"
   ]
  },
  {
   "cell_type": "markdown",
   "id": "47dd6b76",
   "metadata": {},
   "source": [
    "### Q1: Describe the differences between the Elderly and Young age groups in the average times they took to study the grid."
   ]
  },
  {
   "cell_type": "code",
   "execution_count": null,
   "id": "ddb98339",
   "metadata": {},
   "outputs": [],
   "source": []
  },
  {
   "cell_type": "markdown",
   "id": "f8ce1f22",
   "metadata": {},
   "source": [
    "### Q2. Describe the differences between the Elderly and Young age groups in variability of the times they took to study the grid."
   ]
  },
  {
   "cell_type": "code",
   "execution_count": null,
   "id": "c8ad090f",
   "metadata": {},
   "outputs": [],
   "source": []
  },
  {
   "cell_type": "markdown",
   "id": "93205c0f",
   "metadata": {},
   "source": [
    "### Q3. Describe the differences between the Elderly and Young age groups in the measures of performance."
   ]
  },
  {
   "cell_type": "code",
   "execution_count": null,
   "id": "717a36f7",
   "metadata": {},
   "outputs": [],
   "source": []
  },
  {
   "cell_type": "markdown",
   "id": "6dbd3f35",
   "metadata": {},
   "source": [
    "### Q4: Describe the distribution of the number of correctly replaced objects."
   ]
  },
  {
   "cell_type": "code",
   "execution_count": null,
   "id": "ec18cded",
   "metadata": {},
   "outputs": [],
   "source": []
  },
  {
   "cell_type": "markdown",
   "id": "8028f45c",
   "metadata": {},
   "source": [
    "### Q5. What does the frequency table tell you about the data? What are the modes?"
   ]
  },
  {
   "cell_type": "code",
   "execution_count": null,
   "id": "2e653f79",
   "metadata": {},
   "outputs": [],
   "source": []
  },
  {
   "cell_type": "markdown",
   "id": "ae587e72",
   "metadata": {},
   "source": [
    "### Q6. Describe the differences in (i) City block scores and (ii) Study times between the age groups."
   ]
  },
  {
   "cell_type": "code",
   "execution_count": null,
   "id": "6ee26734",
   "metadata": {},
   "outputs": [],
   "source": []
  },
  {
   "cell_type": "markdown",
   "id": "30b5d916",
   "metadata": {},
   "source": [
    "### Q7. From the evidence above do you think that City Block Score or No. correct is better as a measurement of memory?"
   ]
  },
  {
   "cell_type": "code",
   "execution_count": null,
   "id": "6fa34941",
   "metadata": {},
   "outputs": [],
   "source": []
  },
  {
   "cell_type": "markdown",
   "id": "c7aef489",
   "metadata": {},
   "source": [
    "## Charts"
   ]
  },
  {
   "cell_type": "markdown",
   "id": "f510aed1",
   "metadata": {},
   "source": [
    "**Introduction**\n",
    "\n",
    "There is a commonly-held belief that it is more difficult for the elderly than for the young to learn and remember new material. In order to investigate spatial memory, a study was carried out on two groups of people, designated as Young (20-25) and Elderly (over 65). In the study, 18 objects were arranged randomly on a 10 x 10 grid. Thirteen young and fourteen elderly subjects were allowed to examine the positions of the objects for as long as they liked and were subsequently asked to recall these positions by replacing the objects on the grid. Their study times and two measures of recall performance were recorded.\n",
    "The main objective of this worksheet is to compare the age groups visually by using charts."
   ]
  },
  {
   "cell_type": "markdown",
   "id": "3cffa9aa",
   "metadata": {},
   "source": [
    "### Q1. Describe the distribution of the number of correctly replaced objects (out of 18)."
   ]
  },
  {
   "cell_type": "code",
   "execution_count": null,
   "id": "0533042c",
   "metadata": {},
   "outputs": [],
   "source": []
  },
  {
   "cell_type": "markdown",
   "id": "7a9b43f2",
   "metadata": {},
   "source": [
    "### Q2. What does this tell you about the distribution of the number correct in the two groups?"
   ]
  },
  {
   "cell_type": "code",
   "execution_count": null,
   "id": "1708e1bc",
   "metadata": {},
   "outputs": [],
   "source": []
  },
  {
   "cell_type": "markdown",
   "id": "00bac013",
   "metadata": {},
   "source": [
    "### Q3. Are these bar charts a good way of showing the differences between the age groups in City Block Scores and Study Times?"
   ]
  },
  {
   "cell_type": "code",
   "execution_count": null,
   "id": "f26a25fa",
   "metadata": {},
   "outputs": [],
   "source": []
  },
  {
   "cell_type": "markdown",
   "id": "eca31a48",
   "metadata": {},
   "source": [
    "### Q4. Are Study Time or City Block Scores continuous variables?"
   ]
  },
  {
   "cell_type": "code",
   "execution_count": null,
   "id": "b36fe071",
   "metadata": {},
   "outputs": [],
   "source": []
  }
 ],
 "metadata": {
  "kernelspec": {
   "display_name": "Python 3 (ipykernel)",
   "language": "python",
   "name": "python3"
  },
  "language_info": {
   "codemirror_mode": {
    "name": "ipython",
    "version": 3
   },
   "file_extension": ".py",
   "mimetype": "text/x-python",
   "name": "python",
   "nbconvert_exporter": "python",
   "pygments_lexer": "ipython3",
   "version": "3.9.13"
  }
 },
 "nbformat": 4,
 "nbformat_minor": 5
}
