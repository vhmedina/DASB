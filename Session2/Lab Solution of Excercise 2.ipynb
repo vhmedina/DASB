{
 "cells": [
  {
   "cell_type": "markdown",
   "id": "5a774964",
   "metadata": {},
   "source": [
    "# Let's look at some questions!"
   ]
  },
  {
   "cell_type": "code",
   "execution_count": 1,
   "id": "23636995",
   "metadata": {},
   "outputs": [],
   "source": [
    "import numpy as np\n",
    "import matplotlib.pyplot as plt\n",
    "import pandas as pd"
   ]
  },
  {
   "cell_type": "code",
   "execution_count": 2,
   "id": "09fe620f",
   "metadata": {},
   "outputs": [],
   "source": [
    "df = pd.read_excel('data/Spatial.xlsx')"
   ]
  },
  {
   "cell_type": "markdown",
   "id": "88cfe377",
   "metadata": {},
   "source": [
    "## Descriptive statistics"
   ]
  },
  {
   "cell_type": "markdown",
   "id": "d64fecfc",
   "metadata": {},
   "source": [
    "**Introduction**\n",
    "\n",
    "There is a commonly held belief that the younger you are the more easily you can absorb new material. In fact we are used to parents or grandparents being forgetful “having a senior moment”. In order to investigate this for a particular kind of memory, spatial, an investigation has been carried out to test the spatial memory of two groups of people, designated as Elderly (over 65) and Young (20-25). In the test, 18 objects were arranged randomly on a 10x 10 grid. Participants were allowed to examine the positions of the objects for as long as they liked and were subsequently asked to recall these positions by replacing the objects on the grid. Their study times and two measures of performance – the number positioned correctly and the error in positioning - are recorded.\n",
    "\n",
    "\n",
    "The worksheet contains 6 columns of data:-\n",
    "- A: Age group, defined as Elderly or Young.\n",
    "- B: Identification number for each subject within the age groups.\n",
    "- C: Number of objects correctly replaced (out of 18).\n",
    "- D: Percentage of objects correctly replaced.\n",
    "- E: City Block Score – a measurement of the errors between the target and actual positions.\n",
    "- F: Study time – the time each individual spent examining the positions of the objects"
   ]
  },
  {
   "cell_type": "markdown",
   "id": "47dd6b76",
   "metadata": {},
   "source": [
    "### Q1: Describe the differences between the Elderly and Young age groups in the average times they took to study the grid."
   ]
  },
  {
   "cell_type": "code",
   "execution_count": 3,
   "id": "cb502d57",
   "metadata": {},
   "outputs": [
    {
     "name": "stdout",
     "output_type": "stream",
     "text": [
      "Elderly Group:\n",
      "Mean Study Time: 50.714285714285715\n",
      "Median Study Time: 42.5\n",
      "\n",
      "Young Group:\n",
      "Mean Study Time: 98.84615384615384\n",
      "Median Study Time: 95.0\n"
     ]
    }
   ],
   "source": [
    "# Filter the DataFrame to select only the 'Elderly' and 'Young' age groups\n",
    "elderly_group = df[df['Age group'] == 'Elderly']\n",
    "young_group = df[df['Age group'] == 'Young']\n",
    "\n",
    "# Calculate the mean study time for each group\n",
    "mean_study_time_elderly = elderly_group['Study time'].mean()\n",
    "mean_study_time_young = young_group['Study time'].mean()\n",
    "\n",
    "# Calculate the median study time for each group\n",
    "median_study_time_elderly = elderly_group['Study time'].median()\n",
    "median_study_time_young = young_group['Study time'].median()\n",
    "\n",
    "# Print the mean and median for both groups\n",
    "print(\"Elderly Group:\")\n",
    "print(f\"Mean Study Time: {mean_study_time_elderly}\")\n",
    "print(f\"Median Study Time: {median_study_time_elderly}\")\n",
    "print(\"\\nYoung Group:\")\n",
    "print(f\"Mean Study Time: {mean_study_time_young}\")\n",
    "print(f\"Median Study Time: {median_study_time_young}\")\n"
   ]
  },
  {
   "cell_type": "markdown",
   "id": "902bca62",
   "metadata": {},
   "source": [
    "The mean and median values of the Study times of the Young group (98.85 and 95.00 respectively) are much greater than those of the Elderly group (50.71 and 42.50 respectively). The mean and median values for the Young groups are close, those for the Elderly group quite different."
   ]
  },
  {
   "cell_type": "code",
   "execution_count": null,
   "id": "ddb98339",
   "metadata": {},
   "outputs": [],
   "source": []
  },
  {
   "cell_type": "markdown",
   "id": "f8ce1f22",
   "metadata": {},
   "source": [
    "### Q2. Describe the differences between the Elderly and Young age groups in variability of the times they took to study the grid."
   ]
  },
  {
   "cell_type": "code",
   "execution_count": 11,
   "id": "1b568d8a",
   "metadata": {},
   "outputs": [
    {
     "name": "stdout",
     "output_type": "stream",
     "text": [
      "Elderly Group:\n",
      "Standard Deviation: 22.519832529192065\n",
      "IQR: 18.75\n",
      "Outliers:    Age group  Subject  No. correct  % correct  City block score  Study time\n",
      "1    Elderly        2            8       44.4                15          90\n",
      "11   Elderly       12            8       44.4                22         100\n",
      "\n",
      "Young Group:\n",
      "Standard Deviation: 29.661552425786695\n",
      "IQR: 40.0\n"
     ]
    }
   ],
   "source": [
    "# # Filter the DataFrame to select only the 'Elderly' and 'Young' age groups\n",
    "# elderly_group = df[df['Age group'] == 'Elderly']\n",
    "# young_group = df[df['Age group'] == 'Young']\n",
    "\n",
    "# Calculate the standard deviation for each group\n",
    "std_deviation_elderly = elderly_group['Study time'].std()\n",
    "std_deviation_young = young_group['Study time'].std()\n",
    "\n",
    "# Calculate the inter-quartile range (IQR) for each group\n",
    "iqr_elderly = np.percentile(elderly_group['Study time'], 75) - np.percentile(elderly_group['Study time'], 25)\n",
    "iqr_young = np.percentile(young_group['Study time'], 75) - np.percentile(young_group['Study time'], 25)\n",
    "\n",
    "# Define a threshold for outliers (e.g., values more than 1.96 times the IQR)\n",
    "outlier_threshold = 1.5\n",
    "\n",
    "# Check for outliers in each group\n",
    "outliers_elderly = elderly_group[(elderly_group['Study time'] < np.percentile(elderly_group['Study time'], 25) - outlier_threshold * iqr_elderly) | (elderly_group['Study time'] > np.percentile(elderly_group['Study time'], 75) + outlier_threshold * iqr_elderly)]\n",
    "outliers_young = young_group[(young_group['Study time'] < np.percentile(young_group['Study time'], 25) - outlier_threshold * iqr_young) | (young_group['Study time'] > np.percentile(young_group['Study time'], 75) + outlier_threshold * iqr_young)]\n",
    "\n",
    "# Print the results\n",
    "print(\"Elderly Group:\")\n",
    "print(f\"Standard Deviation: {std_deviation_elderly}\")\n",
    "print(f\"IQR: {iqr_elderly}\")\n",
    "if not outliers_elderly.empty:\n",
    "    print(f\"Outliers: {outliers_elderly}\")\n",
    "\n",
    "print(\"\\nYoung Group:\")\n",
    "print(f\"Standard Deviation: {std_deviation_young}\")\n",
    "print(f\"IQR: {iqr_young}\")\n",
    "if not outliers_young.empty:\n",
    "    print(f\"Outliers: {outliers_young}\")"
   ]
  },
  {
   "cell_type": "markdown",
   "id": "ecf05e9d",
   "metadata": {},
   "source": [
    "All the measures of variability are greater for the Young group than for the Elderly. From the table the standard deviation for the Young is 29.66, whilst for the Elderly it is 22.52. The inter-quartile range and range are both greater for the Young group than for the Elderly. Further, the two groups are very different in their study times as the inter-quartile ranges do not overlap and the median value for the Young group would be an outlier for the Elderly group. The Elderly group has an outlier at 100 seconds; there are no outliers in the Young group."
   ]
  },
  {
   "cell_type": "code",
   "execution_count": null,
   "id": "c8ad090f",
   "metadata": {},
   "outputs": [],
   "source": []
  },
  {
   "cell_type": "markdown",
   "id": "93205c0f",
   "metadata": {},
   "source": [
    "### Q3. Describe the differences between the Elderly and Young age groups in the measures of performance."
   ]
  },
  {
   "cell_type": "code",
   "execution_count": 5,
   "id": "8c6c8852",
   "metadata": {},
   "outputs": [
    {
     "name": "stdout",
     "output_type": "stream",
     "text": [
      "Performance Metric: No. correct\n",
      "Elderly Group:\n",
      "Mean: 7.5\n",
      "Median: 8.0\n",
      "Standard Deviation: 1.1602387022306428\n",
      "Range: 4\n",
      "IQR: 1.0\n",
      "\n",
      "Young Group:\n",
      "Mean: 11.153846153846153\n",
      "Median: 11.0\n",
      "Standard Deviation: 3.1317235362803513\n",
      "Range: 11\n",
      "IQR: 5.0\n",
      "The Young group has a higher average No. correct than the Elderly group.\n",
      "The Young group has a higher median No. correct than the Elderly group.\n",
      "The Young group has a higher standard deviation in No. correct than the Elderly group.\n",
      "The Young group has a wider range of No. correct values than the Elderly group.\n",
      "The Young group has a larger IQR in No. correct than the Elderly group.\n",
      "\n",
      "Performance Metric: City block score\n",
      "Elderly Group:\n",
      "Mean: 27.714285714285715\n",
      "Median: 27.5\n",
      "Standard Deviation: 9.666982437687027\n",
      "Range: 30\n",
      "IQR: 13.5\n",
      "\n",
      "Young Group:\n",
      "Mean: 14.461538461538462\n",
      "Median: 12.0\n",
      "Standard Deviation: 9.92148665452398\n",
      "Range: 32\n",
      "IQR: 14.0\n",
      "The Elderly group has a higher average City block score than the Young group.\n",
      "The Elderly group has a higher median City block score than the Young group.\n",
      "The Young group has a higher standard deviation in City block score than the Elderly group.\n",
      "The Young group has a wider range of City block score values than the Elderly group.\n",
      "The Young group has a larger IQR in City block score than the Elderly group.\n",
      "\n"
     ]
    }
   ],
   "source": [
    "# # Filter the DataFrame to select only the 'Elderly' and 'Young' age groups\n",
    "# elderly_group = df[df['Age group'] == 'Elderly']\n",
    "# young_group = df[df['Age group'] == 'Young']\n",
    "\n",
    "# Define the performance metrics\n",
    "performance_metrics = ['No. correct', 'City block score']\n",
    "\n",
    "# Function to calculate range and IQR\n",
    "def calculate_range_iqr(data):\n",
    "    return data.max() - data.min(), np.percentile(data, 75) - np.percentile(data, 25)\n",
    "\n",
    "# Calculate and compare metrics for each performance metric\n",
    "for metric in performance_metrics:\n",
    "    print(f\"Performance Metric: {metric}\")\n",
    "    \n",
    "    # Calculate statistics for Elderly group\n",
    "    elderly_data = elderly_group[metric]\n",
    "    mean_elderly = elderly_data.mean()\n",
    "    median_elderly = elderly_data.median()\n",
    "    std_deviation_elderly = elderly_data.std()\n",
    "    data_range_elderly, iqr_elderly = calculate_range_iqr(elderly_data)\n",
    "    \n",
    "    # Calculate statistics for Young group\n",
    "    young_data = young_group[metric]\n",
    "    mean_young = young_data.mean()\n",
    "    median_young = young_data.median()\n",
    "    std_deviation_young = young_data.std()\n",
    "    data_range_young, iqr_young = calculate_range_iqr(young_data)\n",
    "    \n",
    "    # Compare and print statistics\n",
    "    print(\"Elderly Group:\")\n",
    "    print(f\"Mean: {mean_elderly}\")\n",
    "    print(f\"Median: {median_elderly}\")\n",
    "    print(f\"Standard Deviation: {std_deviation_elderly}\")\n",
    "    print(f\"Range: {data_range_elderly}\")\n",
    "    print(f\"IQR: {iqr_elderly}\")\n",
    "    \n",
    "    print(\"\\nYoung Group:\")\n",
    "    print(f\"Mean: {mean_young}\")\n",
    "    print(f\"Median: {median_young}\")\n",
    "    print(f\"Standard Deviation: {std_deviation_young}\")\n",
    "    print(f\"Range: {data_range_young}\")\n",
    "    print(f\"IQR: {iqr_young}\")\n",
    "    \n",
    "    # Compare and describe the differences\n",
    "    if mean_elderly > mean_young:\n",
    "        print(f\"The Elderly group has a higher average {metric} than the Young group.\")\n",
    "    elif mean_elderly < mean_young:\n",
    "        print(f\"The Young group has a higher average {metric} than the Elderly group.\")\n",
    "    else:\n",
    "        print(f\"No significant difference in average {metric} between the two groups.\")\n",
    "    \n",
    "    if median_elderly > median_young:\n",
    "        print(f\"The Elderly group has a higher median {metric} than the Young group.\")\n",
    "    elif median_elderly < median_young:\n",
    "        print(f\"The Young group has a higher median {metric} than the Elderly group.\")\n",
    "    else:\n",
    "        print(f\"No significant difference in median {metric} between the two groups.\")\n",
    "    \n",
    "    if std_deviation_elderly > std_deviation_young:\n",
    "        print(f\"The Elderly group has a higher standard deviation in {metric} than the Young group.\")\n",
    "    elif std_deviation_elderly < std_deviation_young:\n",
    "        print(f\"The Young group has a higher standard deviation in {metric} than the Elderly group.\")\n",
    "    else:\n",
    "        print(f\"No significant difference in standard deviation of {metric} between the two groups.\")\n",
    "    \n",
    "    if data_range_elderly > data_range_young:\n",
    "        print(f\"The Elderly group has a wider range of {metric} values than the Young group.\")\n",
    "    elif data_range_elderly < data_range_young:\n",
    "        print(f\"The Young group has a wider range of {metric} values than the Elderly group.\")\n",
    "    else:\n",
    "        print(f\"No significant difference in the range of {metric} between the two groups.\")\n",
    "    \n",
    "    if iqr_elderly > iqr_young:\n",
    "        print(f\"The Elderly group has a larger IQR in {metric} than the Young group.\")\n",
    "    elif iqr_elderly < iqr_young:\n",
    "        print(f\"The Young group has a larger IQR in {metric} than the Elderly group.\")\n",
    "    else:\n",
    "        print(f\"No significant difference in IQR of {metric} between the two groups.\")\n",
    "    \n",
    "    print()"
   ]
  },
  {
   "cell_type": "markdown",
   "id": "075aec51",
   "metadata": {},
   "source": [
    "**No. correct**\n",
    "\n",
    "Within each age group the mean and median scores are very close. The mean and median values for the Young group at 11 are larger than for the Elderly group at 7.5 (mean) and 8 (median). The measures of dispersion are all larger for the Young than for the Elderly group. There is very little variability in the Elderly group with a standard deviation of 1.16, range of 4 and IQR of 1.25. Also the median and upper quartile are the same at 8. \n",
    "\n",
    "\n",
    "**City block score**\n",
    "\n",
    "Again, within each age group the mean and median scores are very close. The mean and median values for the Elderly group at about 28 are larger than for the Young group at 14.5 (mean) and 12 (median). The measures of dispersion are much the same for the two age groups, with standard deviations of about 10, ranges of 30 and 32 and IQR of about 15."
   ]
  },
  {
   "cell_type": "code",
   "execution_count": null,
   "id": "717a36f7",
   "metadata": {},
   "outputs": [],
   "source": []
  },
  {
   "cell_type": "markdown",
   "id": "6dbd3f35",
   "metadata": {},
   "source": [
    "### Q4: Describe the distribution of the number of correctly replaced objects."
   ]
  },
  {
   "cell_type": "code",
   "execution_count": 6,
   "id": "c6260463",
   "metadata": {},
   "outputs": [
    {
     "data": {
      "image/png": "[encoded data removed]",
      "text/plain": [
       "<Figure size 800x500 with 1 Axes>"
      ]
     },
     "metadata": {},
     "output_type": "display_data"
    },
    {
     "name": "stdout",
     "output_type": "stream",
     "text": [
      "Summary Statistics:\n",
      "Mean: 9.25925925925926\n",
      "Median: 8.0\n",
      "Standard Deviation: 2.9429523715086967\n"
     ]
    }
   ],
   "source": [
    "# Select the column of interest\n",
    "correctly_replaced_objects = df['No. correct']\n",
    "\n",
    "# Calculate basic statistics\n",
    "mean_value = correctly_replaced_objects.mean()\n",
    "median_value = correctly_replaced_objects.median()\n",
    "std_deviation = correctly_replaced_objects.std()\n",
    "\n",
    "# Calculate the range of data\n",
    "data_range = correctly_replaced_objects.max() - correctly_replaced_objects.min()\n",
    "\n",
    "# Calculate the number of bins for a 1-unit interval\n",
    "num_bins = int(data_range) + 1\n",
    "\n",
    "# Create a histogram to visualize the distribution\n",
    "plt.figure(figsize=(8, 5))\n",
    "plt.hist(correctly_replaced_objects, bins=num_bins, edgecolor='k', \n",
    "         range=(correctly_replaced_objects.min(), correctly_replaced_objects.max() + 1))\n",
    "plt.title('Distribution of Correctly Replaced Objects')\n",
    "plt.xlabel('Number of Correctly Replaced Objects')\n",
    "plt.ylabel('Frequency')\n",
    "\n",
    "# Calculate and set the positions of x-axis ticks at the middle of each interval\n",
    "tick_positions = [value + 0.5 for value in range(int(correctly_replaced_objects.min()), int(correctly_replaced_objects.max()) + 1)]\n",
    "plt.xticks(tick_positions, [str(int(pos - 0.5)) for pos in tick_positions])\n",
    "\n",
    "# plt.grid(True)\n",
    "plt.show()\n",
    "\n",
    "# Print the summary statistics\n",
    "print(\"Summary Statistics:\")\n",
    "print(f\"Mean: {mean_value}\")\n",
    "print(f\"Median: {median_value}\")\n",
    "print(f\"Standard Deviation: {std_deviation}\")"
   ]
  },
  {
   "cell_type": "markdown",
   "id": "5a055046",
   "metadata": {},
   "source": [
    "About half (52%) of the subjects replaced 8 or fewer objects in the correct position. Only one person replaced more than 14 correctly."
   ]
  },
  {
   "cell_type": "markdown",
   "id": "813957f9",
   "metadata": {},
   "source": [
    "Let's also look at Elderly group and Young group!"
   ]
  },
  {
   "cell_type": "code",
   "execution_count": 7,
   "id": "0aebdefd",
   "metadata": {},
   "outputs": [
    {
     "data": {
      "image/png": "[encoded data removed]",
      "text/plain": [
       "<Figure size 1200x500 with 2 Axes>"
      ]
     },
     "metadata": {},
     "output_type": "display_data"
    }
   ],
   "source": [
    "# Select the 'No. Correct' column for each age group\n",
    "elderly_correct = df[df['Age group'] == 'Elderly']['No. correct']\n",
    "young_correct = df[df['Age group'] == 'Young']['No. correct']\n",
    "\n",
    "# Calculate basic statistics for each group\n",
    "elderly_mean = elderly_correct.mean()\n",
    "elderly_median = elderly_correct.median()\n",
    "elderly_std_deviation = elderly_correct.std()\n",
    "\n",
    "young_mean = young_correct.mean()\n",
    "young_median = young_correct.median()\n",
    "young_std_deviation = young_correct.std()\n",
    "\n",
    "# Calculate the range of data for both groups\n",
    "data_range = max(elderly_correct.max(), young_correct.max()) - min(elderly_correct.min(), young_correct.min())\n",
    "\n",
    "# Calculate the number of bins for a 1-unit interval\n",
    "num_bins = int(data_range) + 1\n",
    "\n",
    "# Create a figure with two subplots (one for each group)\n",
    "fig, axes = plt.subplots(1, 2, figsize=(12, 5))\n",
    "\n",
    "# Create histograms for both groups\n",
    "axes[0].hist(elderly_correct, bins=num_bins, edgecolor='k', range=(min(elderly_correct.min(), young_correct.min()), max(elderly_correct.max(), young_correct.max()) + 1))\n",
    "axes[1].hist(young_correct, bins=num_bins, edgecolor='k', range=(min(elderly_correct.min(), young_correct.min()), max(elderly_correct.max(), young_correct.max()) + 1))\n",
    "\n",
    "# Set titles and labels for the subplots\n",
    "axes[0].set_title('Elderly Group')\n",
    "axes[0].set_xlabel('Number of Correctly Replaced Objects')\n",
    "axes[0].set_ylabel('Frequency')\n",
    "\n",
    "axes[1].set_title('Young Group')\n",
    "axes[1].set_xlabel('Number of Correctly Replaced Objects')\n",
    "axes[1].set_ylabel('Frequency')\n",
    "\n",
    "# Calculate and set the positions of x-axis ticks at the middle of each interval\n",
    "tick_positions = [value + 0.5 for value in range(int(min(elderly_correct.min(), young_correct.min())), int(max(elderly_correct.max(), young_correct.max())) + 1)]\n",
    "tick_labels = [str(int(pos - 0.5)) for pos in tick_positions]\n",
    "\n",
    "for ax in axes:\n",
    "    ax.set_xticks(tick_positions)\n",
    "    ax.set_xticklabels(tick_labels, rotation=45)\n",
    "\n",
    "# Set a title for the entire figure\n",
    "fig.suptitle('Distribution of Correctly Replaced Objects by Age Group', fontsize=16)\n",
    "\n",
    "plt.tight_layout()\n",
    "plt.show()"
   ]
  },
  {
   "cell_type": "code",
   "execution_count": null,
   "id": "ec18cded",
   "metadata": {},
   "outputs": [],
   "source": []
  },
  {
   "cell_type": "markdown",
   "id": "8028f45c",
   "metadata": {},
   "source": [
    "### Q5. What does the frequency table tell you about the data? What are the modes?"
   ]
  },
  {
   "cell_type": "markdown",
   "id": "0863d14b",
   "metadata": {},
   "source": [
    "According to the previous plots, on the whole the Elderly got fewer correct than the Young. All of the scores for the Elderly were under 10, with the mode at 8. The scores for the Young were more spread out and most were over 10 correct; the mode is 14."
   ]
  },
  {
   "cell_type": "code",
   "execution_count": null,
   "id": "2e653f79",
   "metadata": {},
   "outputs": [],
   "source": []
  },
  {
   "cell_type": "markdown",
   "id": "ae587e72",
   "metadata": {},
   "source": [
    "### Q6. Describe the differences in (i) City block scores and (ii) Study times between the age groups."
   ]
  },
  {
   "cell_type": "code",
   "execution_count": 8,
   "id": "09e78930",
   "metadata": {},
   "outputs": [
    {
     "name": "stdout",
     "output_type": "stream",
     "text": [
      "City Block Scores:\n",
      "Mean for Elderly Group: 27.71\n",
      "Mean for Young Group: 14.46\n",
      "Standard Deviation for Elderly Group: 9.67\n",
      "Standard Deviation for Young Group: 9.92\n",
      "\n",
      "Study Times:\n",
      "Mean for Elderly Group: 50.71\n",
      "Mean for Young Group: 98.85\n",
      "Standard Deviation for Elderly Group: 22.52\n",
      "Standard Deviation for Young Group: 29.66\n"
     ]
    }
   ],
   "source": [
    "# Filter the DataFrame for 'Elderly' and 'Young' age groups\n",
    "elderly_data = df[df['Age group'] == 'Elderly']\n",
    "young_data = df[df['Age group'] == 'Young']\n",
    "\n",
    "# Calculate statistics for City block scores\n",
    "city_block_mean_elderly = elderly_data['City block score'].mean()\n",
    "city_block_mean_young = young_data['City block score'].mean()\n",
    "\n",
    "city_block_std_elderly = elderly_data['City block score'].std()\n",
    "city_block_std_young = young_data['City block score'].std()\n",
    "\n",
    "# Calculate statistics for Study times\n",
    "study_time_mean_elderly = elderly_data['Study time'].mean()\n",
    "study_time_mean_young = young_data['Study time'].mean()\n",
    "\n",
    "study_time_std_elderly = elderly_data['Study time'].std()\n",
    "study_time_std_young = young_data['Study time'].std()\n",
    "\n",
    "# Print and describe the differences in City block scores\n",
    "print(\"City Block Scores:\")\n",
    "print(f\"Mean for Elderly Group: {city_block_mean_elderly:.2f}\")\n",
    "print(f\"Mean for Young Group: {city_block_mean_young:.2f}\")\n",
    "print(f\"Standard Deviation for Elderly Group: {city_block_std_elderly:.2f}\")\n",
    "print(f\"Standard Deviation for Young Group: {city_block_std_young:.2f}\")\n",
    "\n",
    "# Print and describe the differences in Study times\n",
    "print(\"\\nStudy Times:\")\n",
    "print(f\"Mean for Elderly Group: {study_time_mean_elderly:.2f}\")\n",
    "print(f\"Mean for Young Group: {study_time_mean_young:.2f}\")\n",
    "print(f\"Standard Deviation for Elderly Group: {study_time_std_elderly:.2f}\")\n",
    "print(f\"Standard Deviation for Young Group: {study_time_std_young:.2f}\")\n"
   ]
  },
  {
   "cell_type": "markdown",
   "id": "f0a18ec1",
   "metadata": {},
   "source": [
    "- (i) The City block scores are spread out for both age groups, with generally just one person in each category. Scores for the Young are generally lower than those for the Elderly.\n",
    "- (ii) Study times for the Elderly are generally much lower than for the Young, with most of the former taking 55 seconds or less whilst all of the latter took 55 seconds or more."
   ]
  },
  {
   "cell_type": "markdown",
   "id": "30b5d916",
   "metadata": {},
   "source": [
    "### Q7. From the evidence above do you think that City Block Score or No. correct is better as a measurement of memory?"
   ]
  },
  {
   "cell_type": "markdown",
   "id": "e5525201",
   "metadata": {},
   "source": [
    "The number correct is a crude, but easy way of measuring spatial memory; it does not allow for “near- misses”. Comparing the Elderly and Young, the former do not get many repositions absolutely right. However, in the City block scores, although the Young group are generally better, some of the Elderly do just as well and some of the Young are just as poor as the Elderly. City block score seems to be a better method."
   ]
  },
  {
   "cell_type": "code",
   "execution_count": null,
   "id": "6fa34941",
   "metadata": {},
   "outputs": [],
   "source": []
  },
  {
   "cell_type": "markdown",
   "id": "c7aef489",
   "metadata": {},
   "source": [
    "## Charts"
   ]
  },
  {
   "cell_type": "markdown",
   "id": "f510aed1",
   "metadata": {},
   "source": [
    "**Introduction**\n",
    "\n",
    "There is a commonly-held belief that it is more difficult for the elderly than for the young to learn and remember new material. In order to investigate spatial memory, a study was carried out on two groups of people, designated as Young (20-25) and Elderly (over 65). In the study, 18 objects were arranged randomly on a 10 x 10 grid. Thirteen young and fourteen elderly subjects were allowed to examine the positions of the objects for as long as they liked and were subsequently asked to recall these positions by replacing the objects on the grid. Their study times and two measures of recall performance were recorded.\n",
    "The main objective of this worksheet is to compare the age groups visually by using charts."
   ]
  },
  {
   "cell_type": "markdown",
   "id": "3cffa9aa",
   "metadata": {},
   "source": [
    "### Q1. Describe the distribution of the number of correctly replaced objects (out of 18)."
   ]
  },
  {
   "cell_type": "markdown",
   "id": "50bce944",
   "metadata": {},
   "source": [
    "There were 18 objects to be correctly replaced on the grid; According to the plot in **Q4**, the highest score was 16 and the lowest 5. The most frequent number of objects replaced correctly (the\n",
    "mode) is 8. Only 9 of the 27 subjects, i.e. one third, replaced more than half correctly."
   ]
  },
  {
   "cell_type": "code",
   "execution_count": null,
   "id": "0533042c",
   "metadata": {},
   "outputs": [],
   "source": []
  },
  {
   "cell_type": "markdown",
   "id": "7a9b43f2",
   "metadata": {},
   "source": [
    "### Q2. What does this tell you about the distribution of the number correct in the two groups?"
   ]
  },
  {
   "cell_type": "code",
   "execution_count": 9,
   "id": "ef8f688b",
   "metadata": {},
   "outputs": [
    {
     "data": {
      "image/png": "[encoded data removed]",
      "text/plain": [
       "<Figure size 1000x600 with 1 Axes>"
      ]
     },
     "metadata": {},
     "output_type": "display_data"
    }
   ],
   "source": [
    "# Create a pivot table with 'No. correct' as values and 'Age group' as columns\n",
    "pivot_table = df.pivot_table(index='No. correct', columns='Age group', aggfunc='size', fill_value=0)\n",
    "\n",
    "# Create a stacked bar plot\n",
    "ax = pivot_table.plot(kind='bar', stacked=True, figsize=(10, 6))\n",
    "\n",
    "# Set labels and title\n",
    "ax.set_xlabel('Number of Correctly Replaced Objects')\n",
    "ax.set_ylabel('Frequency')\n",
    "ax.set_title('Stacked Bar Plot of Correctly Replaced Objects by Age Group')\n",
    "\n",
    "# Set legend\n",
    "ax.legend(title='Age Group', loc='upper right')\n",
    "\n",
    "# Show the plot\n",
    "plt.show()"
   ]
  },
  {
   "cell_type": "markdown",
   "id": "283e4822",
   "metadata": {},
   "source": [
    "All of those with more than half right were in the Young group. Scores for this group range from 5 to 16, although only two scored fewer than 9 correct. The Elderly group’s scores range from 5 to 9, with half of the group scoring 8 correct. The stacked bar chart shows clearly that the Young are more successful than the Elderly in replacing the objects correctly."
   ]
  },
  {
   "cell_type": "markdown",
   "id": "00bac013",
   "metadata": {},
   "source": [
    "### Q3. Are these bar charts a good way of showing the differences between the age groups in City Block Scores and Study Times?"
   ]
  },
  {
   "cell_type": "markdown",
   "id": "09f45f10",
   "metadata": {},
   "source": [
    "Not really, as there are blocks for each value that may not be evenly spaced. Also the default graphs have rather too many bars. The feature that does show clearly is that the Elderly generally take shorter Study Times than the Young but that their City Block Scores are generally poorer."
   ]
  },
  {
   "cell_type": "code",
   "execution_count": null,
   "id": "f26a25fa",
   "metadata": {},
   "outputs": [],
   "source": []
  },
  {
   "cell_type": "markdown",
   "id": "eca31a48",
   "metadata": {},
   "source": [
    "### Q4. Are Study Time or City Block Scores continuous variables?"
   ]
  },
  {
   "cell_type": "markdown",
   "id": "45cfddc6",
   "metadata": {},
   "source": [
    "Time is usually regarded as a continuous variable.\n",
    "\n",
    "The City Block Scores, being the sums of blocks in horizontal and vertical directions are not. However, there are so many different values it is appropriate to group the data."
   ]
  },
  {
   "cell_type": "code",
   "execution_count": 10,
   "id": "4bcaebc5",
   "metadata": {},
   "outputs": [
    {
     "data": {
      "image/png": "[encoded data removed]",
      "text/plain": [
       "<Figure size 800x500 with 1 Axes>"
      ]
     },
     "metadata": {},
     "output_type": "display_data"
    }
   ],
   "source": [
    "# Select the 'Study time' column\n",
    "study_times = df['Study time']\n",
    "\n",
    "# Define the bin edges based on your requirements\n",
    "bin_edges = list(range(25, 146, 20))  # Start at 25, end at 145, with intervals of 20\n",
    "\n",
    "# Create a histogram to visualize the distribution\n",
    "plt.figure(figsize=(8, 5))\n",
    "plt.hist(study_times, bins=bin_edges, edgecolor='k')\n",
    "plt.title('Histogram of Study Times')\n",
    "plt.xlabel('Study Time (minutes)')\n",
    "plt.ylabel('Frequency')\n",
    "plt.xticks(bin_edges)  # Set x-axis ticks to match bin edges\n",
    "plt.grid(True)\n",
    "plt.show()"
   ]
  },
  {
   "cell_type": "code",
   "execution_count": null,
   "id": "b36fe071",
   "metadata": {},
   "outputs": [],
   "source": []
  }
 ],
 "metadata": {
  "kernelspec": {
   "display_name": "Python 3 (ipykernel)",
   "language": "python",
   "name": "python3"
  },
  "language_info": {
   "codemirror_mode": {
    "name": "ipython",
    "version": 3
   },
   "file_extension": ".py",
   "mimetype": "text/x-python",
   "name": "python",
   "nbconvert_exporter": "python",
   "pygments_lexer": "ipython3",
   "version": "3.11.9"
  }
 },
 "nbformat": 4,
 "nbformat_minor": 5
}
