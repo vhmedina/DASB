{
 "cells": [
  {
   "cell_type": "markdown",
   "id": "8705028f",
   "metadata": {},
   "source": [
    "# Hypothesis Testing"
   ]
  },
  {
   "cell_type": "markdown",
   "id": "03f4f561",
   "metadata": {},
   "source": [
    "## Case study: Quality Associates\n",
    "The consultancy Quality Associates (QA) advises its clients about sampling and statistical procedures that can be used to control their manufacturing processes. One particular client gave QA a sample of 1,000 observations taken during a time when the client’s process was operating satisfactorily. The sample standard deviation for these data was 0.21; hence, with so much data, the population standard deviation was assumed to be 0.21. QA then suggested that random samples of size 30 be taken periodically to monitor the process on an ongoing basis. By analyzing the new samples, the client could quickly learn whether the process was operating satisfactorily, and if necessary take corrective action."
   ]
  },
  {
   "cell_type": "code",
   "execution_count": 1,
   "id": "ce5bafbd",
   "metadata": {},
   "outputs": [],
   "source": [
    "import pandas as pd"
   ]
  },
  {
   "cell_type": "markdown",
   "id": "cfb1e55b",
   "metadata": {},
   "source": [
    "Let's import our dataset"
   ]
  },
  {
   "cell_type": "code",
   "execution_count": 2,
   "id": "ecf5c025",
   "metadata": {},
   "outputs": [],
   "source": [
    "df=pd.read_csv('air-quality.csv')"
   ]
  },
  {
   "cell_type": "code",
   "execution_count": 3,
   "id": "7b957bfd",
   "metadata": {
    "scrolled": true
   },
   "outputs": [
    {
     "data": {
      "text/html": [
       "<div>\n",
       "<style scoped>\n",
       "    .dataframe tbody tr th:only-of-type {\n",
       "        vertical-align: middle;\n",
       "    }\n",
       "\n",
       "    .dataframe tbody tr th {\n",
       "        vertical-align: top;\n",
       "    }\n",
       "\n",
       "    .dataframe thead th {\n",
       "        text-align: right;\n",
       "    }\n",
       "</style>\n",
       "<table border=\"1\" class=\"dataframe\">\n",
       "  <thead>\n",
       "    <tr style=\"text-align: right;\">\n",
       "      <th></th>\n",
       "      <th>Sample 1</th>\n",
       "      <th>Sample 2</th>\n",
       "      <th>Sample 3</th>\n",
       "      <th>Sample 4</th>\n",
       "    </tr>\n",
       "  </thead>\n",
       "  <tbody>\n",
       "    <tr>\n",
       "      <th>count</th>\n",
       "      <td>30.000000</td>\n",
       "      <td>30.000000</td>\n",
       "      <td>30.000000</td>\n",
       "      <td>30.000000</td>\n",
       "    </tr>\n",
       "    <tr>\n",
       "      <th>mean</th>\n",
       "      <td>11.958667</td>\n",
       "      <td>12.028667</td>\n",
       "      <td>11.889000</td>\n",
       "      <td>12.081333</td>\n",
       "    </tr>\n",
       "    <tr>\n",
       "      <th>std</th>\n",
       "      <td>0.220356</td>\n",
       "      <td>0.220356</td>\n",
       "      <td>0.207171</td>\n",
       "      <td>0.206109</td>\n",
       "    </tr>\n",
       "    <tr>\n",
       "      <th>min</th>\n",
       "      <td>11.520000</td>\n",
       "      <td>11.590000</td>\n",
       "      <td>11.360000</td>\n",
       "      <td>11.640000</td>\n",
       "    </tr>\n",
       "    <tr>\n",
       "      <th>25%</th>\n",
       "      <td>11.812500</td>\n",
       "      <td>11.882500</td>\n",
       "      <td>11.752500</td>\n",
       "      <td>11.982500</td>\n",
       "    </tr>\n",
       "    <tr>\n",
       "      <th>50%</th>\n",
       "      <td>11.955000</td>\n",
       "      <td>12.025000</td>\n",
       "      <td>11.920000</td>\n",
       "      <td>12.080000</td>\n",
       "    </tr>\n",
       "    <tr>\n",
       "      <th>75%</th>\n",
       "      <td>12.145000</td>\n",
       "      <td>12.215000</td>\n",
       "      <td>11.997500</td>\n",
       "      <td>12.227500</td>\n",
       "    </tr>\n",
       "    <tr>\n",
       "      <th>max</th>\n",
       "      <td>12.320000</td>\n",
       "      <td>12.390000</td>\n",
       "      <td>12.220000</td>\n",
       "      <td>12.470000</td>\n",
       "    </tr>\n",
       "  </tbody>\n",
       "</table>\n",
       "</div>"
      ],
      "text/plain": [
       "        Sample 1   Sample 2   Sample 3   Sample 4\n",
       "count  30.000000  30.000000  30.000000  30.000000\n",
       "mean   11.958667  12.028667  11.889000  12.081333\n",
       "std     0.220356   0.220356   0.207171   0.206109\n",
       "min    11.520000  11.590000  11.360000  11.640000\n",
       "25%    11.812500  11.882500  11.752500  11.982500\n",
       "50%    11.955000  12.025000  11.920000  12.080000\n",
       "75%    12.145000  12.215000  11.997500  12.227500\n",
       "max    12.320000  12.390000  12.220000  12.470000"
      ]
     },
     "execution_count": 3,
     "metadata": {},
     "output_type": "execute_result"
    }
   ],
   "source": [
    "df.describe()"
   ]
  },
  {
   "cell_type": "markdown",
   "id": "6416d663",
   "metadata": {},
   "source": [
    "The design specification indicated that the mean for the process should be 12.0. The hypothesis test suggested by QA follows."
   ]
  },
  {
   "cell_type": "markdown",
   "id": "297037fc",
   "metadata": {},
   "source": [
    "$$H_0: \\mu = 12.0$$\n",
    "\n",
    "$$H_1: \\mu \\neq 12.0$$  "
   ]
  },
  {
   "cell_type": "markdown",
   "id": "5da445af",
   "metadata": {},
   "source": [
    "Corrective action will be taken any time $H_0$ is rejected."
   ]
  },
  {
   "cell_type": "markdown",
   "id": "133fc8f2",
   "metadata": {},
   "source": [
    "The data set ‘Quality’ on the online platform contains data from four samples, each of size 30, collected at hourly intervals during the first day of operation of the new statistical control procedure."
   ]
  },
  {
   "cell_type": "markdown",
   "id": "90bc5f3a",
   "metadata": {},
   "source": [
    "Questions:\n",
    "1. Do a hypothesis test for each sample, using $\\alpha = 0.01$, and determine whether corrective action should be taken. Provide the test statistic and p-value for each test.\n",
    "2. Compute the standard deviation for each of the four samples. Does the assumption of 0.21 for the population standard deviation appear reasonable?\n",
    "3. Compute limits for the sample mean $\\bar{X}$ around $\\mu = 12.0$ such that, as long as a new sample mean is within those limits, the process will be considered to be operating satisfactorily. These limits are referred to as upper and lower control limits for quality control purposes.\n",
    "4. Discuss the implications of changing the level of significance $\\alpha$ to a larger value. What mistake or error could increase if the level of significance is increased?"
   ]
  },
  {
   "cell_type": "markdown",
   "id": "30111cdf",
   "metadata": {},
   "source": [
    "### Question 1:  Do a hypothesis test for each sample, using $\\alpha = 0.01$, and determine whether corrective action should be taken. Provide the test statistic and p-value for each test."
   ]
  },
  {
   "cell_type": "markdown",
   "id": "b1296e2e",
   "metadata": {},
   "source": [
    "Let's write an function to do test!"
   ]
  },
  {
   "cell_type": "code",
   "execution_count": 13,
   "id": "5cfb24e0",
   "metadata": {},
   "outputs": [],
   "source": [
    "import numpy as np\n",
    "import scipy.stats as stats\n",
    "\n",
    "def hypothesis_test_one_sample_mean(df, column, hypothesized_mean, alpha=0.05):\n",
    "    \"\"\"\n",
    "    Perform a one-sample Z-test on a data column in a DataFrame.\n",
    "    \n",
    "    Parameters:\n",
    "        df (DataFrame): The data frame containing the data.\n",
    "        column (str): The name of the column to test.\n",
    "        hypothesized_mean (float): The population mean to test against.\n",
    "        alpha (float): Significance level. Default is 0.05.\n",
    "        \n",
    "    Returns:\n",
    "        tuple: Z-statistic, p-value, reject null hypothesis (True/False)\n",
    "    \"\"\"\n",
    "    \n",
    "    # Extract data and calculate statistics\n",
    "    data = df[column]\n",
    "    sample_mean = np.mean(data)\n",
    "    sample_std = np.std(data, ddof=1)\n",
    "    n = len(data)\n",
    "    \n",
    "    # Calculate the Z-statistic\n",
    "    z_statistic = (sample_mean - hypothesized_mean) / (sample_std / np.sqrt(n))\n",
    "    \n",
    "    # Calculate the two-tailed p-value\n",
    "    p_value = 2 * (1 - stats.norm.cdf(np.abs(z_statistic)))\n",
    "    \n",
    "    # Determine whether to reject the null hypothesis\n",
    "    reject_null = p_value < alpha\n",
    "    \n",
    "    return z_statistic, p_value, reject_null"
   ]
  },
  {
   "cell_type": "code",
   "execution_count": 14,
   "id": "1ea4976c",
   "metadata": {},
   "outputs": [
    {
     "name": "stdout",
     "output_type": "stream",
     "text": [
      "This is Sample 1\n",
      "Z-statistic: -1.0273918375852567\n",
      "P-value: 0.3042359934361458\n",
      "Reject null hypothesis: False\n",
      "This is Sample 2\n",
      "Z-statistic: 0.7125459518737836\n",
      "P-value: 0.4761267668347715\n",
      "Reject null hypothesis: False\n",
      "This is Sample 3\n",
      "Z-statistic: -2.9346444686029636\n",
      "P-value: 0.0033393006290902694\n",
      "Reject null hypothesis: True\n",
      "This is Sample 4\n",
      "Z-statistic: 2.161385554363501\n",
      "P-value: 0.030665569040311036\n",
      "Reject null hypothesis: False\n"
     ]
    }
   ],
   "source": [
    "# Hypothesized population mean according to our case study\n",
    "hypothesized_mean = 12\n",
    "\n",
    "# Significance level\n",
    "alpha = 0.01\n",
    "\n",
    "# Perform the hypothesis test for all columns\n",
    "for col in df.columns:\n",
    "    z_stat, p_val, reject_null = hypothesis_test_one_sample_mean(df, col, hypothesized_mean, alpha)\n",
    "    print('This is', str(col))\n",
    "    print(f\"Z-statistic: {z_stat}\")\n",
    "    print(f\"P-value: {p_val}\")\n",
    "    print(f\"Reject null hypothesis: {reject_null}\")"
   ]
  },
  {
   "cell_type": "markdown",
   "id": "b42fc516",
   "metadata": {},
   "source": [
    "Only sample 3 leads to the rejection of the hypothesis $H_0: \\mu = 12$.  Hence, corrective action is warranted for sample 3.  The other samples indicate $H_0$ cannot be rejected and so from all we can tell, the process is operating satisfactorily.  Sample 3 with $\\bar{X} = 11.889$ shows the process is operating below the desired mean.  Sample 4 with $\\bar{X} = 12.0813$ is on the high side, but the p-value of 0.031 is not sufficient to reject $H_0$."
   ]
  },
  {
   "cell_type": "markdown",
   "id": "6fe3f6b8",
   "metadata": {},
   "source": [
    "### Question 2: Compute the standard deviation for each of the four samples. Does the assumption of 0.21 for the population standard deviation appear reasonable?"
   ]
  },
  {
   "cell_type": "code",
   "execution_count": 11,
   "id": "18316b71",
   "metadata": {},
   "outputs": [
    {
     "data": {
      "text/html": [
       "<div>\n",
       "<style scoped>\n",
       "    .dataframe tbody tr th:only-of-type {\n",
       "        vertical-align: middle;\n",
       "    }\n",
       "\n",
       "    .dataframe tbody tr th {\n",
       "        vertical-align: top;\n",
       "    }\n",
       "\n",
       "    .dataframe thead th {\n",
       "        text-align: right;\n",
       "    }\n",
       "</style>\n",
       "<table border=\"1\" class=\"dataframe\">\n",
       "  <thead>\n",
       "    <tr style=\"text-align: right;\">\n",
       "      <th></th>\n",
       "      <th>Sample 1</th>\n",
       "      <th>Sample 2</th>\n",
       "      <th>Sample 3</th>\n",
       "      <th>Sample 4</th>\n",
       "    </tr>\n",
       "  </thead>\n",
       "  <tbody>\n",
       "    <tr>\n",
       "      <th>count</th>\n",
       "      <td>30.000000</td>\n",
       "      <td>30.000000</td>\n",
       "      <td>30.000000</td>\n",
       "      <td>30.000000</td>\n",
       "    </tr>\n",
       "    <tr>\n",
       "      <th>mean</th>\n",
       "      <td>11.958667</td>\n",
       "      <td>12.028667</td>\n",
       "      <td>11.889000</td>\n",
       "      <td>12.081333</td>\n",
       "    </tr>\n",
       "    <tr>\n",
       "      <th>std</th>\n",
       "      <td>0.220356</td>\n",
       "      <td>0.220356</td>\n",
       "      <td>0.207171</td>\n",
       "      <td>0.206109</td>\n",
       "    </tr>\n",
       "    <tr>\n",
       "      <th>min</th>\n",
       "      <td>11.520000</td>\n",
       "      <td>11.590000</td>\n",
       "      <td>11.360000</td>\n",
       "      <td>11.640000</td>\n",
       "    </tr>\n",
       "    <tr>\n",
       "      <th>25%</th>\n",
       "      <td>11.812500</td>\n",
       "      <td>11.882500</td>\n",
       "      <td>11.752500</td>\n",
       "      <td>11.982500</td>\n",
       "    </tr>\n",
       "    <tr>\n",
       "      <th>50%</th>\n",
       "      <td>11.955000</td>\n",
       "      <td>12.025000</td>\n",
       "      <td>11.920000</td>\n",
       "      <td>12.080000</td>\n",
       "    </tr>\n",
       "    <tr>\n",
       "      <th>75%</th>\n",
       "      <td>12.145000</td>\n",
       "      <td>12.215000</td>\n",
       "      <td>11.997500</td>\n",
       "      <td>12.227500</td>\n",
       "    </tr>\n",
       "    <tr>\n",
       "      <th>max</th>\n",
       "      <td>12.320000</td>\n",
       "      <td>12.390000</td>\n",
       "      <td>12.220000</td>\n",
       "      <td>12.470000</td>\n",
       "    </tr>\n",
       "  </tbody>\n",
       "</table>\n",
       "</div>"
      ],
      "text/plain": [
       "        Sample 1   Sample 2   Sample 3   Sample 4\n",
       "count  30.000000  30.000000  30.000000  30.000000\n",
       "mean   11.958667  12.028667  11.889000  12.081333\n",
       "std     0.220356   0.220356   0.207171   0.206109\n",
       "min    11.520000  11.590000  11.360000  11.640000\n",
       "25%    11.812500  11.882500  11.752500  11.982500\n",
       "50%    11.955000  12.025000  11.920000  12.080000\n",
       "75%    12.145000  12.215000  11.997500  12.227500\n",
       "max    12.320000  12.390000  12.220000  12.470000"
      ]
     },
     "execution_count": 11,
     "metadata": {},
     "output_type": "execute_result"
    }
   ],
   "source": [
    "df.describe()"
   ]
  },
  {
   "cell_type": "markdown",
   "id": "1cf10fcd",
   "metadata": {},
   "source": [
    "The sample standard deviations for all four samples are in the 0.20 to 0.22 range.  It appears that the process population standard deviation assumption of 0.21 is good."
   ]
  },
  {
   "cell_type": "markdown",
   "id": "491bbe8b",
   "metadata": {},
   "source": [
    "### Question 3. Compute limits for the sample mean $\\bar{X}$ around $\\mu = 12.0$ such that, as long as a new sample mean is within those limits, the process will be considered to be operating satisfactorily. These limits are referred to as upper and lower control limits for quality control purposes."
   ]
  },
  {
   "cell_type": "code",
   "execution_count": 12,
   "id": "7e47b7f1",
   "metadata": {},
   "outputs": [],
   "source": [
    "from scipy.stats import norm "
   ]
  },
  {
   "cell_type": "code",
   "execution_count": 17,
   "id": "ad6b5de5",
   "metadata": {},
   "outputs": [],
   "source": [
    "alpha = 0.01"
   ]
  },
  {
   "cell_type": "code",
   "execution_count": 19,
   "id": "dc200ddd",
   "metadata": {},
   "outputs": [
    {
     "name": "stdout",
     "output_type": "stream",
     "text": [
      "-2.575829303548901\n"
     ]
    }
   ],
   "source": [
    "z_value = norm.ppf(alpha/2)\n",
    "print(z_value)"
   ]
  },
  {
   "cell_type": "code",
   "execution_count": 20,
   "id": "0607ea51",
   "metadata": {},
   "outputs": [
    {
     "name": "stdout",
     "output_type": "stream",
     "text": [
      "0.03834057902536163\n"
     ]
    }
   ],
   "source": [
    "sigma = 0.21\n",
    "SE = sigma / np.sqrt(30)\n",
    "print(SE)"
   ]
  },
  {
   "cell_type": "markdown",
   "id": "e6131e7d",
   "metadata": {},
   "source": [
    "Therefore, we can have the interval:\n",
    "- Upper Control Limit  = 12 + 2.576 (0.0383)  = 12.0987\n",
    "- Lower Control Limit  = 12 - 2.576 (0.0383)  = 11.9013"
   ]
  },
  {
   "cell_type": "markdown",
   "id": "a1246745",
   "metadata": {},
   "source": [
    "Write a function, we can also do it for our dataframe"
   ]
  },
  {
   "cell_type": "code",
   "execution_count": 23,
   "id": "cb3829cd",
   "metadata": {},
   "outputs": [],
   "source": [
    "import numpy as np\n",
    "import scipy.stats as stats\n",
    "\n",
    "def confidence_interval_known_sigma(df, column, sigma, confidence_level=0.95):\n",
    "    \"\"\"\n",
    "    Calculate the confidence interval for a population mean with known sigma.\n",
    "    \n",
    "    Parameters:\n",
    "        df (DataFrame): The data frame containing the data.\n",
    "        column (str): The name of the column to calculate the confidence interval for.\n",
    "        sigma (float): Known population standard deviation.\n",
    "        confidence_level (float): Desired confidence level. Default is 0.95.\n",
    "        \n",
    "    Returns:\n",
    "        tuple: Lower bound, Upper bound of the confidence interval\n",
    "    \"\"\"\n",
    "    \n",
    "    # Extract data and calculate sample mean\n",
    "    data = df[column]\n",
    "    sample_mean = np.mean(data)\n",
    "    n = len(data)\n",
    "    \n",
    "    # Calculate the Z-value for the given confidence level\n",
    "    z_value = stats.norm.ppf((1 + confidence_level) / 2)\n",
    "    \n",
    "    # Calculate the margin of error\n",
    "    margin_of_error = z_value * (sigma / np.sqrt(n))\n",
    "    \n",
    "    # Calculate the confidence interval\n",
    "    lower_bound = sample_mean - margin_of_error\n",
    "    upper_bound = sample_mean + margin_of_error\n",
    "    \n",
    "    return lower_bound, upper_bound"
   ]
  },
  {
   "cell_type": "code",
   "execution_count": 26,
   "id": "ebfb0d8c",
   "metadata": {},
   "outputs": [
    {
     "name": "stdout",
     "output_type": "stream",
     "text": [
      "Confidence Interval (99.0%): (11.85990787969811, 12.057425453635226)\n",
      "Confidence Interval (99.0%): (11.929907879698114, 12.12742545363523)\n",
      "Confidence Interval (99.0%): (11.790241213031441, 11.987758786968557)\n",
      "Confidence Interval (99.0%): (11.982574546364777, 12.180092120301893)\n"
     ]
    }
   ],
   "source": [
    "for col in df.columns:\n",
    "    # Calculate the confidence interval\n",
    "    lower, upper = confidence_interval_known_sigma(df, col, sigma, 1-alpha)\n",
    "    print(f\"Confidence Interval ({(1-alpha) * 100}%): ({lower}, {upper})\")"
   ]
  },
  {
   "cell_type": "markdown",
   "id": "2283e2c8",
   "metadata": {},
   "source": [
    "As long as a sample mean $\\bar{X}$ is between these two limits, the process is in control and no corrective action is required.  Note that sample 3 with a mean of 11.889 shows corrective action is necessary because the sample mean is outside the control limits.\n",
    "- From the view of general confidence interval, (11.9013, 12.0987) doesn't contain 11.889.\n",
    "- From the view of sample 3's own confidence interval (11.790241213031441, 11.987758786968557) doesn't contain 12"
   ]
  },
  {
   "cell_type": "markdown",
   "id": "41f8cca0",
   "metadata": {},
   "source": [
    "### Question 4. Discuss the implications of changing the level of significance $\\alpha$ to a larger value. What mistake or error could increase if the level of significance is increased?"
   ]
  },
  {
   "cell_type": "markdown",
   "id": "89350974",
   "metadata": {},
   "source": [
    "Increasing the level of significance will cause the null hypothesis to be rejected more often.  While this may mean quicker corrective action when the process is out of control, it also means that there will be a higher error probability of stopping the process and attempting corrective action when the process is operating satisfactorily.  This would be an increase in the probability of a making a Type I error."
   ]
  },
  {
   "cell_type": "markdown",
   "id": "8d305df0",
   "metadata": {},
   "source": [
    "**Can you change the significance level and re-run the above code? And what can you observe?**"
   ]
  },
  {
   "cell_type": "code",
   "execution_count": null,
   "id": "2db3d8bc",
   "metadata": {},
   "outputs": [],
   "source": []
  },
  {
   "cell_type": "markdown",
   "id": "0025fc24",
   "metadata": {},
   "source": [
    "# Further Look at both $\\alpha$ and $\\beta$"
   ]
  },
  {
   "cell_type": "code",
   "execution_count": 2,
   "id": "8c07dce3",
   "metadata": {},
   "outputs": [
    {
     "name": "stdout",
     "output_type": "stream",
     "text": [
      "Alpha (Type I error): 0.05\n",
      "Critical value of sample mean for alpha: 18.93046972294134\n",
      "Beta (Type II error): 0.9996782927232838\n"
     ]
    }
   ],
   "source": [
    "from scipy.stats import norm\n",
    "import math\n",
    "\n",
    "# Given values\n",
    "alpha = 0.05  # Significance level\n",
    "mu_0 = 18  # Population mean under H0\n",
    "mu_real = 17  # \"Real\" population mean under Ha\n",
    "s = 4  # Sample standard deviation\n",
    "n = 50  # Sample size\n",
    "\n",
    "# Calculate critical Z value for alpha\n",
    "z_critical = norm.ppf(1 - alpha)\n",
    "\n",
    "# Calculate corresponding critical sample mean\n",
    "x_critical = mu_0 + z_critical * (s / math.sqrt(n))\n",
    "\n",
    "# Calculate beta: probability of not rejecting H0 when Ha is true\n",
    "# We need to standardize x_critical under the distribution of the sample mean if Ha is true\n",
    "z_beta = (x_critical - mu_real) / (s / math.sqrt(n))\n",
    "beta = norm.cdf(z_beta)\n",
    "\n",
    "# Alpha is already known as it's the significance level we set (0.05)\n",
    "print(f\"Alpha (Type I error): {alpha}\")\n",
    "print(f\"Critical value of sample mean for alpha: {x_critical}\")\n",
    "print(f\"Beta (Type II error): {beta}\")"
   ]
  },
  {
   "cell_type": "code",
   "execution_count": 39,
   "id": "09e44e79",
   "metadata": {},
   "outputs": [
    {
     "data": {
      "image/png": "[encoded data removed]",
      "text/plain": [
       "<Figure size 1200x600 with 1 Axes>"
      ]
     },
     "metadata": {},
     "output_type": "display_data"
    }
   ],
   "source": [
    "import numpy as np\n",
    "import matplotlib.pyplot as plt\n",
    "import scipy.stats as stats\n",
    "\n",
    "# Parameters\n",
    "# mu0=5 is the original true mean\n",
    "# mu1=4.8 is the assumed true mean when calculating beta \n",
    "# observed sample mean is 4.7\n",
    "mu0, mu1, sigma = 5, 4.8, 1.5\n",
    "x_bar = 4.7\n",
    "n = 36\n",
    "\n",
    "# Z-scores\n",
    "z_alpha = stats.norm.ppf(0.05)\n",
    "\n",
    "# Z-statistic (threshold to reject or accept value for the observed sample mean)\n",
    "z_statistic = mu0 + z_alpha * (sigma/np.sqrt(n)) \n",
    "\n",
    "# z_beta value\n",
    "z_beta = (z_statistic - mu1) / (sigma/np.sqrt(n))\n",
    "\n",
    "\n",
    "# Distributions\n",
    "x = np.linspace(3, 7, 1000)\n",
    "y0 = stats.norm.pdf(x, mu0, sigma/np.sqrt(n))\n",
    "y1 = stats.norm.pdf(x, mu1, sigma/np.sqrt(n))\n",
    "\n",
    "plt.figure(figsize=(12, 6))\n",
    "\n",
    "plt.plot(x, y0, label=f'H0: mu = 5, Z_alpha={z_alpha:.3f}')\n",
    "plt.fill_between(x, y0, where=(x <= mu0 + z_alpha*(sigma/np.sqrt(n))), color='blue', alpha=0.5)\n",
    "\n",
    "plt.plot(x, y1, label=f'H1: mu = 4.8, Z_beta={z_beta:.3f}')\n",
    "plt.fill_between(x, y1, where=(x >= z_statistic), color='red', alpha=0.5)\n",
    "\n",
    "\n",
    "# Add dashed line at x = 4.589\n",
    "plt.axvline(x=z_statistic, color='blue', linestyle='--', label=f'Critical Value:, x={z_statistic:.3f}')\n",
    "\n",
    "# Add dashed line at x = x_bar\n",
    "plt.axvline(x=x_bar, color='red', linestyle=':', label=f'Observed Sample mean, X_bar={x_bar:.3f}')\n",
    "\n",
    "# Annotations\n",
    "plt.annotate('Alpha area', xy=(4.5, 0.2), xytext=(3.5, 0.8),\n",
    "             arrowprops=dict(facecolor='blue', arrowstyle='->'),\n",
    "             fontsize=12, color='blue')\n",
    "\n",
    "plt.annotate('Beta area', xy=(5.3, 0.2), xytext=(5.5, 0.8),\n",
    "             arrowprops=dict(facecolor='red', arrowstyle='->'),\n",
    "             fontsize=12, color='red')\n",
    "\n",
    "plt.legend()\n",
    "plt.title('Alpha and Beta in Hypothesis Testing')\n",
    "plt.show()"
   ]
  },
  {
   "cell_type": "code",
   "execution_count": null,
   "id": "94264053",
   "metadata": {},
   "outputs": [],
   "source": []
  },
  {
   "cell_type": "markdown",
   "id": "e25156c5",
   "metadata": {},
   "source": [
    "# Directly apply stats packages to do the test"
   ]
  },
  {
   "cell_type": "markdown",
   "id": "8fc5e181",
   "metadata": {},
   "source": [
    "## Test for sample mean"
   ]
  },
  {
   "cell_type": "code",
   "execution_count": 4,
   "id": "63a8a672",
   "metadata": {},
   "outputs": [],
   "source": [
    "import pandas as pd\n",
    "from scipy import stats"
   ]
  },
  {
   "cell_type": "code",
   "execution_count": 5,
   "id": "b2613bbb",
   "metadata": {},
   "outputs": [],
   "source": [
    "df=pd.read_csv('air-quality.csv')"
   ]
  },
  {
   "cell_type": "markdown",
   "id": "ab625337",
   "metadata": {},
   "source": [
    "If it needs t-test, then we can also use `test_1samp` function directly. For example:"
   ]
  },
  {
   "cell_type": "code",
   "execution_count": 10,
   "id": "7f5d0d7c",
   "metadata": {},
   "outputs": [
    {
     "name": "stdout",
     "output_type": "stream",
     "text": [
      "T-Statistic: -1.0273918375852564\n",
      "P-Value: 0.3127295817114154\n"
     ]
    }
   ],
   "source": [
    "mu = 12 # this is our test problem, null hypothesis\n",
    "t_stat, p_val = stats.ttest_1samp(df['Sample 1'], mu)\n",
    "\n",
    "print(f\"T-Statistic: {t_stat}\")\n",
    "print(f\"P-Value: {p_val}\")"
   ]
  },
  {
   "cell_type": "markdown",
   "id": "68016c2d",
   "metadata": {},
   "source": [
    "We can compare it with the result achieved by our previous customised function `hypothesis_test_one_sample_mean`:\n",
    "```\n",
    "This is Sample 1\n",
    "Z-statistic: -1.0273918375852567\n",
    "P-value: 0.3042359934361458\n",
    "Reject null hypothesis: False\n",
    "```"
   ]
  },
  {
   "cell_type": "markdown",
   "id": "6bac9df8",
   "metadata": {},
   "source": [
    "The difference is small, even though the previous function is doing `z-test` while this one is `t-test`. This is because the sample size is 30 (large enough to use normal), even though here it is hard to say, the population standard deviation is known or not from the data."
   ]
  },
  {
   "cell_type": "markdown",
   "id": "02196f05",
   "metadata": {},
   "source": [
    "The tasks also can be done as a whole using for loop."
   ]
  },
  {
   "cell_type": "code",
   "execution_count": 15,
   "id": "d0f6c1b9",
   "metadata": {},
   "outputs": [
    {
     "name": "stdout",
     "output_type": "stream",
     "text": [
      "--- Sample 1 ---\n",
      "T-Statistic: -1.0273918375852564\n",
      "P-Value: 0.3127295817114154\n",
      "The result is not statistically significant at α = 0.01. Fail to reject the null hypothesis.\n",
      "--- Sample 2 ---\n",
      "T-Statistic: 0.7125459518737836\n",
      "P-Value: 0.48182093997366904\n",
      "The result is not statistically significant at α = 0.01. Fail to reject the null hypothesis.\n",
      "--- Sample 3 ---\n",
      "T-Statistic: -2.9346444686029636\n",
      "P-Value: 0.006468822099321287\n",
      "The result is statistically significant at α = 0.01. Reject the null hypothesis.\n",
      "--- Sample 4 ---\n",
      "T-Statistic: 2.1613855543635005\n",
      "P-Value: 0.03905894729956287\n",
      "The result is not statistically significant at α = 0.01. Fail to reject the null hypothesis.\n"
     ]
    }
   ],
   "source": [
    "# Hypothesized mean\n",
    "mu = 12\n",
    "\n",
    "# Significance level\n",
    "alpha = 0.01\n",
    "\n",
    "# Loop through each column\n",
    "for column in df.columns:\n",
    "\n",
    "    # Perform one-sample t-test using ttest_1samp\n",
    "    t_stat, p_val = stats.ttest_1samp(df[column], mu)\n",
    "\n",
    "    print(f\"--- {column} ---\")\n",
    "    print(f\"T-Statistic: {t_stat}\")\n",
    "    print(f\"P-Value: {p_val}\")\n",
    "\n",
    "    # Make a decision based on the p-value\n",
    "    if p_val < alpha:\n",
    "        print(f\"The result is statistically significant at α = {alpha}. Reject the null hypothesis.\")\n",
    "    else:\n",
    "        print(f\"The result is not statistically significant at α = {alpha}. Fail to reject the null hypothesis.\")"
   ]
  },
  {
   "cell_type": "markdown",
   "id": "38fb780b",
   "metadata": {},
   "source": [
    "Also, if we know there are many different columns with different means, then we can change the code a little bit:"
   ]
  },
  {
   "cell_type": "code",
   "execution_count": 16,
   "id": "a04b84ef",
   "metadata": {},
   "outputs": [],
   "source": [
    "# Create a dictionary for Hypothesized means for each column\n",
    "mu_dict = {'Sample 1': 12, 'Sample 2': 12, 'Sample 3': 12, 'Sample 4': 12}"
   ]
  },
  {
   "cell_type": "code",
   "execution_count": 20,
   "id": "560a5245",
   "metadata": {},
   "outputs": [
    {
     "name": "stdout",
     "output_type": "stream",
     "text": [
      "--- Sample 1 ---\n",
      "T-Statistic: -1.0273918375852564\n",
      "P-Value: 0.3127295817114154\n",
      "The result is not statistically significant at α = 0.01. Fail to reject the null hypothesis.\n",
      "--- Sample 2 ---\n",
      "T-Statistic: 0.7125459518737836\n",
      "P-Value: 0.48182093997366904\n",
      "The result is not statistically significant at α = 0.01. Fail to reject the null hypothesis.\n",
      "--- Sample 3 ---\n",
      "T-Statistic: -2.9346444686029636\n",
      "P-Value: 0.006468822099321287\n",
      "The result is statistically significant at α = 0.01. Reject the null hypothesis.\n",
      "--- Sample 4 ---\n",
      "T-Statistic: 2.1613855543635005\n",
      "P-Value: 0.03905894729956287\n",
      "The result is not statistically significant at α = 0.01. Fail to reject the null hypothesis.\n"
     ]
    }
   ],
   "source": [
    "# Loop through each column\n",
    "for column in df.columns:\n",
    "\n",
    "    # Perform one-sample t-test using ttest_1samp (here we have difference)\n",
    "    t_stat, p_val = stats.ttest_1samp(df[column], mu_dict[column])\n",
    "\n",
    "    print(f\"--- {column} ---\")\n",
    "    print(f\"T-Statistic: {t_stat}\")\n",
    "    print(f\"P-Value: {p_val}\")\n",
    "\n",
    "    # Make a decision based on the p-value\n",
    "    if p_val < alpha:\n",
    "        print(f\"The result is statistically significant at α = {alpha}. Reject the null hypothesis.\")\n",
    "    else:\n",
    "        print(f\"The result is not statistically significant at α = {alpha}. Fail to reject the null hypothesis.\")"
   ]
  },
  {
   "cell_type": "markdown",
   "id": "e233ad72",
   "metadata": {},
   "source": [
    "**Please change the significant level, and observe the results!**"
   ]
  },
  {
   "cell_type": "code",
   "execution_count": null,
   "id": "5cbefe81",
   "metadata": {},
   "outputs": [],
   "source": []
  }
 ],
 "metadata": {
  "kernelspec": {
   "display_name": "Python 3 (ipykernel)",
   "language": "python",
   "name": "python3"
  },
  "language_info": {
   "codemirror_mode": {
    "name": "ipython",
    "version": 3
   },
   "file_extension": ".py",
   "mimetype": "text/x-python",
   "name": "python",
   "nbconvert_exporter": "python",
   "pygments_lexer": "ipython3",
   "version": "3.9.13"
  }
 },
 "nbformat": 4,
 "nbformat_minor": 5
}
